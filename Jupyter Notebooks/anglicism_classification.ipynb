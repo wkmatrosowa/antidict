{
 "cells": [
  {
   "cell_type": "code",
   "execution_count": 1,
   "metadata": {},
   "outputs": [],
   "source": [
    "import gensim\n",
    "import pandas as pd\n",
    "import numpy as np\n",
    "\n",
    "from sklearn.metrics import f1_score\n",
    "from sklearn.linear_model import LogisticRegression\n",
    "from sklearn.model_selection import train_test_split\n",
    "import warnings\n",
    "warnings.filterwarnings(\"ignore\")"
   ]
  },
  {
   "cell_type": "markdown",
   "metadata": {},
   "source": [
    "Чтобы использовать модель, нужно скачать [архив](https://rusvectores.org/static/models/rusvectores4/fasttext/araneum_none_fasttextcbow_300_5_2018.tgz) и распаковать его."
   ]
  },
  {
   "cell_type": "code",
   "execution_count": 2,
   "metadata": {},
   "outputs": [],
   "source": [
    "data = pd.read_csv('better_words.csv', encoding='utf-8', sep='\\t', names=['index', 'word', 'info', 'modified'])"
   ]
  },
  {
   "cell_type": "code",
   "execution_count": 3,
   "metadata": {},
   "outputs": [],
   "source": [
    "model = gensim.models.KeyedVectors.load(\"araneum_none_fasttextcbow_300_5_2018.model\")"
   ]
  },
  {
   "cell_type": "code",
   "execution_count": 4,
   "metadata": {},
   "outputs": [],
   "source": [
    "with open('forms.txt') as file: # словарь словоформ\n",
    "    forms = file.readlines()\n",
    "forms = [word.strip('\\\"»«\\n)(') for word in forms]\n",
    "forms = [word.lower() for word in forms if word]\n",
    "\n",
    "with open('slovar_edited.csv', encoding='utf-8') as file: # словарь англицизмов\n",
    "    slovar = file.readlines()\n",
    "slovar = [word.strip('\\\"»«\\n)(') for word in slovar]\n",
    "slovar = [word.lower() for word in slovar if len(word) > 1]\n"
   ]
  },
  {
   "cell_type": "markdown",
   "metadata": {},
   "source": [
    "Данные очень несбалансированные, поэтому сделаем выборку."
   ]
  },
  {
   "cell_type": "code",
   "execution_count": 5,
   "metadata": {},
   "outputs": [
    {
     "data": {
      "text/plain": [
       "(2334516, 16107)"
      ]
     },
     "execution_count": 5,
     "metadata": {},
     "output_type": "execute_result"
    }
   ],
   "source": [
    "len(forms), len(slovar)"
   ]
  },
  {
   "cell_type": "markdown",
   "metadata": {},
   "source": [
    "Также отдельно отложим данные для валидации."
   ]
  },
  {
   "cell_type": "code",
   "execution_count": 6,
   "metadata": {},
   "outputs": [],
   "source": [
    "forms = pd.DataFrame({'word': forms, 'label': 0}).sample(60000)\n",
    "forms_train = forms.head(50000)\n",
    "forms_valid = forms.tail(10000)\n",
    "slovar = pd.DataFrame({'word': slovar, 'label': 1}).sample(frac=1)\n",
    "slovar_train = slovar.head(13107)\n",
    "slovar_valid = slovar.tail(3000)\n",
    "training = pd.concat([forms_train, slovar_train])\n",
    "validation = pd.concat([forms_valid, slovar_valid]) "
   ]
  },
  {
   "cell_type": "code",
   "execution_count": 7,
   "metadata": {},
   "outputs": [],
   "source": [
    "training['model'] = training.word.apply(lambda x: model[x])\n",
    "validation['model'] = validation.word.apply(lambda x: model[x])"
   ]
  },
  {
   "cell_type": "code",
   "execution_count": 8,
   "metadata": {},
   "outputs": [],
   "source": [
    "X = np.vstack(training.model.values)\n",
    "y = training['label'].values"
   ]
  },
  {
   "cell_type": "code",
   "execution_count": 9,
   "metadata": {},
   "outputs": [
    {
     "data": {
      "text/plain": [
       "(63107, 300)"
      ]
     },
     "execution_count": 9,
     "metadata": {},
     "output_type": "execute_result"
    }
   ],
   "source": [
    "X.shape"
   ]
  },
  {
   "cell_type": "code",
   "execution_count": 10,
   "metadata": {},
   "outputs": [],
   "source": [
    "X_train, X_test, y_train, y_test = train_test_split(X, y, test_size=0.33, random_state=42)"
   ]
  },
  {
   "cell_type": "code",
   "execution_count": 11,
   "metadata": {},
   "outputs": [],
   "source": [
    "clf = LogisticRegression(random_state=0).fit(X_train, y_train)"
   ]
  },
  {
   "cell_type": "code",
   "execution_count": 19,
   "metadata": {
    "scrolled": true
   },
   "outputs": [
    {
     "name": "stdout",
     "output_type": "stream",
     "text": [
      "вэлентайн: [1]\n",
      "федаи: [1]\n",
      "вартс: [1]\n",
      "логфайла: [1]\n",
      "аутнау: [1]\n",
      "фаел: [1]\n",
      "эдв: [1]\n",
      "анрексист: [1]\n"
     ]
    }
   ],
   "source": [
    "for word in data.sample(100).modified.values:\n",
    "    res = clf.predict(model[word].reshape(1, -1))\n",
    "    if res[0] == 1:\n",
    "        print(f\"{word}: {res}\")"
   ]
  },
  {
   "cell_type": "markdown",
   "metadata": {},
   "source": [
    "### F1 Score"
   ]
  },
  {
   "cell_type": "code",
   "execution_count": 20,
   "metadata": {},
   "outputs": [
    {
     "data": {
      "text/plain": [
       "0.7820669104699988"
      ]
     },
     "execution_count": 20,
     "metadata": {},
     "output_type": "execute_result"
    }
   ],
   "source": [
    "y_pred = clf.predict(X_test)\n",
    "f1_score(y_test, y_pred)"
   ]
  },
  {
   "cell_type": "code",
   "execution_count": 21,
   "metadata": {},
   "outputs": [
    {
     "data": {
      "text/html": [
       "<div>\n",
       "<style scoped>\n",
       "    .dataframe tbody tr th:only-of-type {\n",
       "        vertical-align: middle;\n",
       "    }\n",
       "\n",
       "    .dataframe tbody tr th {\n",
       "        vertical-align: top;\n",
       "    }\n",
       "\n",
       "    .dataframe thead th {\n",
       "        text-align: right;\n",
       "    }\n",
       "</style>\n",
       "<table border=\"1\" class=\"dataframe\">\n",
       "  <thead>\n",
       "    <tr style=\"text-align: right;\">\n",
       "      <th></th>\n",
       "      <th>word</th>\n",
       "      <th>label</th>\n",
       "      <th>model</th>\n",
       "      <th>prediction</th>\n",
       "    </tr>\n",
       "  </thead>\n",
       "  <tbody>\n",
       "    <tr>\n",
       "      <th>5367</th>\n",
       "      <td>каучсёрфинг</td>\n",
       "      <td>1</td>\n",
       "      <td>[0.010669713, -0.0027955084, -0.007030979, 0.0...</td>\n",
       "      <td>1</td>\n",
       "    </tr>\n",
       "    <tr>\n",
       "      <th>1548</th>\n",
       "      <td>блудхаунд</td>\n",
       "      <td>1</td>\n",
       "      <td>[0.022531068, -0.0035569028, 0.009551105, -0.0...</td>\n",
       "      <td>0</td>\n",
       "    </tr>\n",
       "    <tr>\n",
       "      <th>14452</th>\n",
       "      <td>футер</td>\n",
       "      <td>1</td>\n",
       "      <td>[-0.02691076, -0.09293588, 0.06733015, -0.0311...</td>\n",
       "      <td>1</td>\n",
       "    </tr>\n",
       "    <tr>\n",
       "      <th>2414</th>\n",
       "      <td>виггер</td>\n",
       "      <td>1</td>\n",
       "      <td>[-0.036411233, -0.006401194, 0.02648523, -0.00...</td>\n",
       "      <td>1</td>\n",
       "    </tr>\n",
       "    <tr>\n",
       "      <th>16038</th>\n",
       "      <td>юнайт</td>\n",
       "      <td>1</td>\n",
       "      <td>[-0.015594717, -0.0003088545, -0.0026805222, -...</td>\n",
       "      <td>1</td>\n",
       "    </tr>\n",
       "  </tbody>\n",
       "</table>\n",
       "</div>"
      ],
      "text/plain": [
       "              word  label                                              model  \\\n",
       "5367   каучсёрфинг      1  [0.010669713, -0.0027955084, -0.007030979, 0.0...   \n",
       "1548     блудхаунд      1  [0.022531068, -0.0035569028, 0.009551105, -0.0...   \n",
       "14452        футер      1  [-0.02691076, -0.09293588, 0.06733015, -0.0311...   \n",
       "2414        виггер      1  [-0.036411233, -0.006401194, 0.02648523, -0.00...   \n",
       "16038        юнайт      1  [-0.015594717, -0.0003088545, -0.0026805222, -...   \n",
       "\n",
       "       prediction  \n",
       "5367            1  \n",
       "1548            0  \n",
       "14452           1  \n",
       "2414            1  \n",
       "16038           1  "
      ]
     },
     "execution_count": 21,
     "metadata": {},
     "output_type": "execute_result"
    }
   ],
   "source": [
    "validation.loc[validation.label == 1].head()"
   ]
  },
  {
   "cell_type": "code",
   "execution_count": 22,
   "metadata": {},
   "outputs": [],
   "source": [
    "def predict_word(word):\n",
    "    return clf.predict(model[word].reshape(1, -1))[0]"
   ]
  },
  {
   "cell_type": "code",
   "execution_count": 23,
   "metadata": {},
   "outputs": [],
   "source": [
    "validation['prediction'] = validation.word.apply(predict_word)"
   ]
  },
  {
   "cell_type": "code",
   "execution_count": 24,
   "metadata": {},
   "outputs": [],
   "source": [
    "# tp = len(validation.loc[(validation.label == 1) & (validation.prediction == 1)])\n",
    "# fp = len(validation.loc[(validation.label == 0) & (validation.prediction == 1)])\n",
    "# tn = len(validation.loc[(validation.label == 0) & (validation.prediction == 0)])\n",
    "# fn = len(validation.loc[(validation.label == 1) & (validation.prediction == 0)])"
   ]
  },
  {
   "cell_type": "code",
   "execution_count": 25,
   "metadata": {},
   "outputs": [],
   "source": [
    "# tp, fp, tn, fn"
   ]
  },
  {
   "cell_type": "code",
   "execution_count": 26,
   "metadata": {},
   "outputs": [],
   "source": [
    "# precision = tp / (tp + fp)\n",
    "# precision"
   ]
  },
  {
   "cell_type": "code",
   "execution_count": 27,
   "metadata": {},
   "outputs": [],
   "source": [
    "# recall = tn / (tn + fp)\n",
    "# recall"
   ]
  },
  {
   "cell_type": "code",
   "execution_count": 28,
   "metadata": {},
   "outputs": [],
   "source": [
    "# f1 = 2 * (precision * recall) / (precision + recall)\n",
    "# f1"
   ]
  },
  {
   "cell_type": "code",
   "execution_count": 29,
   "metadata": {},
   "outputs": [
    {
     "data": {
      "text/plain": [
       "0.7950454809367138"
      ]
     },
     "execution_count": 29,
     "metadata": {},
     "output_type": "execute_result"
    }
   ],
   "source": [
    "f1_score(validation.label.values, validation.prediction.values)"
   ]
  },
  {
   "cell_type": "code",
   "execution_count": null,
   "metadata": {},
   "outputs": [],
   "source": []
  }
 ],
 "metadata": {
  "kernelspec": {
   "display_name": "Python 3",
   "language": "python",
   "name": "python3"
  },
  "language_info": {
   "codemirror_mode": {
    "name": "ipython",
    "version": 3
   },
   "file_extension": ".py",
   "mimetype": "text/x-python",
   "name": "python",
   "nbconvert_exporter": "python",
   "pygments_lexer": "ipython3",
   "version": "3.7.6"
  }
 },
 "nbformat": 4,
 "nbformat_minor": 2
}
