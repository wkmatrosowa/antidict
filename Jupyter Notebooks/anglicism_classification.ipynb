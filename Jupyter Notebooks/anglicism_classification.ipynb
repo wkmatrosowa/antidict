{
 "cells": [
  {
   "cell_type": "code",
   "execution_count": 172,
   "metadata": {},
   "outputs": [],
   "source": [
    "import gensim\n",
    "import pandas as pd\n",
    "import numpy as np\n",
    "\n",
    "from sklearn.metrics import f1_score\n",
    "from sklearn.linear_model import LogisticRegression\n",
    "from sklearn.model_selection import train_test_split\n",
    "import warnings\n",
    "warnings.filterwarnings(\"ignore\")"
   ]
  },
  {
   "cell_type": "markdown",
   "metadata": {},
   "source": [
    "Чтобы использовать модель, нужно скачать [архив](https://rusvectores.org/static/models/rusvectores4/fasttext/araneum_none_fasttextcbow_300_5_2018.tgz) и распаковать его."
   ]
  },
  {
   "cell_type": "code",
   "execution_count": 173,
   "metadata": {},
   "outputs": [],
   "source": [
    "data = pd.read_csv('better_words.csv', encoding='utf-8', sep='\\t', names=['index', 'word', 'info', 'modified'])"
   ]
  },
  {
   "cell_type": "code",
   "execution_count": 174,
   "metadata": {},
   "outputs": [],
   "source": [
    "model = gensim.models.KeyedVectors.load(\"araneum_none_fasttextcbow_300_5_2018.model\")"
   ]
  },
  {
   "cell_type": "code",
   "execution_count": 175,
   "metadata": {},
   "outputs": [],
   "source": [
    "with open('forms.txt') as file: # словарь словоформ\n",
    "    forms = file.readlines()\n",
    "forms = [word.strip('\\\"»«\\n)(') for word in forms]\n",
    "forms = [word.lower() for word in forms if word]\n",
    "\n",
    "with open('slovar_edited.csv', encoding='utf-8') as file: # словарь англицизмов\n",
    "    slovar = file.readlines()\n",
    "slovar = [word.strip('\\\"»«\\n)(') for word in slovar]\n",
    "slovar = [word.lower() for word in slovar if len(word) > 1]\n"
   ]
  },
  {
   "cell_type": "markdown",
   "metadata": {},
   "source": [
    "Данные очень несбалансированные, поэтому сделаем выборку."
   ]
  },
  {
   "cell_type": "code",
   "execution_count": 176,
   "metadata": {},
   "outputs": [
    {
     "data": {
      "text/plain": [
       "(2334516, 16107)"
      ]
     },
     "execution_count": 176,
     "metadata": {},
     "output_type": "execute_result"
    }
   ],
   "source": [
    "len(forms), len(slovar)"
   ]
  },
  {
   "cell_type": "markdown",
   "metadata": {},
   "source": [
    "Также отдельно отложим данные для валидации."
   ]
  },
  {
   "cell_type": "code",
   "execution_count": 177,
   "metadata": {},
   "outputs": [],
   "source": [
    "forms = pd.DataFrame({'word': forms, 'label': 0}).sample(60000)\n",
    "forms_train = forms.head(50000)\n",
    "forms_valid = forms.tail(10000)\n",
    "slovar = pd.DataFrame({'word': slovar, 'label': 1}).sample(frac=1)\n",
    "slovar_train = slovar.head(13107)\n",
    "slovar_valid = slovar.tail(3000)\n",
    "training = pd.concat([forms_train, slovar_train])\n",
    "validation = pd.concat([forms_valid, slovar_valid]) "
   ]
  },
  {
   "cell_type": "code",
   "execution_count": 178,
   "metadata": {},
   "outputs": [],
   "source": [
    "training['model'] = training.word.apply(lambda x: model[x])\n",
    "validation['model'] = validation.word.apply(lambda x: model[x])"
   ]
  },
  {
   "cell_type": "code",
   "execution_count": 179,
   "metadata": {},
   "outputs": [],
   "source": [
    "X = np.vstack(training.model.values)\n",
    "y = training['label'].values"
   ]
  },
  {
   "cell_type": "code",
   "execution_count": 180,
   "metadata": {},
   "outputs": [
    {
     "data": {
      "text/plain": [
       "(63107, 300)"
      ]
     },
     "execution_count": 180,
     "metadata": {},
     "output_type": "execute_result"
    }
   ],
   "source": [
    "X.shape"
   ]
  },
  {
   "cell_type": "code",
   "execution_count": 181,
   "metadata": {},
   "outputs": [],
   "source": [
    "X_train, X_test, y_train, y_test = train_test_split(X, y, test_size=0.33, random_state=42)"
   ]
  },
  {
   "cell_type": "code",
   "execution_count": 182,
   "metadata": {},
   "outputs": [],
   "source": [
    "clf = LogisticRegression(random_state=0).fit(X_train, y_train)"
   ]
  },
  {
   "cell_type": "code",
   "execution_count": 187,
   "metadata": {
    "scrolled": true
   },
   "outputs": [
    {
     "name": "stdout",
     "output_type": "stream",
     "text": [
      "ипере: [1]\n",
      "гуанкси: [1]\n",
      "лавэр: [1]\n",
      "дрэма: [1]\n",
      "укулель: [1]\n",
      "голдену: [1]\n"
     ]
    }
   ],
   "source": [
    "for word in data.sample(100).modified.values:\n",
    "    res = clf.predict(model[word].reshape(1, -1))\n",
    "    if res[0] == 1:\n",
    "        print(f\"{word}: {res}\")"
   ]
  },
  {
   "cell_type": "markdown",
   "metadata": {},
   "source": [
    "### F1 Score"
   ]
  },
  {
   "cell_type": "code",
   "execution_count": 188,
   "metadata": {},
   "outputs": [
    {
     "data": {
      "text/plain": [
       "0.7736287785528656"
      ]
     },
     "execution_count": 188,
     "metadata": {},
     "output_type": "execute_result"
    }
   ],
   "source": [
    "y_pred = clf.predict(X_test)\n",
    "f1_score(y_test, y_pred)"
   ]
  },
  {
   "cell_type": "code",
   "execution_count": 189,
   "metadata": {},
   "outputs": [
    {
     "name": "stdout",
     "output_type": "stream",
     "text": [
      "0.678\n"
     ]
    }
   ],
   "source": [
    "i = 0\n",
    "for word in neo.loc[neo.label == 1].sample(1000).word.values:\n",
    "    pred = clf.predict(model[word].reshape(1, -1))\n",
    "    #print(word, pred)\n",
    "    if pred[0] == 1:\n",
    "        i += 1\n",
    "print(i/1000)"
   ]
  },
  {
   "cell_type": "code",
   "execution_count": 190,
   "metadata": {},
   "outputs": [
    {
     "data": {
      "text/html": [
       "<div>\n",
       "<style scoped>\n",
       "    .dataframe tbody tr th:only-of-type {\n",
       "        vertical-align: middle;\n",
       "    }\n",
       "\n",
       "    .dataframe tbody tr th {\n",
       "        vertical-align: top;\n",
       "    }\n",
       "\n",
       "    .dataframe thead th {\n",
       "        text-align: right;\n",
       "    }\n",
       "</style>\n",
       "<table border=\"1\" class=\"dataframe\">\n",
       "  <thead>\n",
       "    <tr style=\"text-align: right;\">\n",
       "      <th></th>\n",
       "      <th>word</th>\n",
       "      <th>label</th>\n",
       "      <th>model</th>\n",
       "    </tr>\n",
       "  </thead>\n",
       "  <tbody>\n",
       "    <tr>\n",
       "      <th>8149</th>\n",
       "      <td>неопанк</td>\n",
       "      <td>1</td>\n",
       "      <td>[0.0037404108, -0.008987354, 0.045442805, 0.01...</td>\n",
       "    </tr>\n",
       "    <tr>\n",
       "      <th>6681</th>\n",
       "      <td>легисигн</td>\n",
       "      <td>1</td>\n",
       "      <td>[-0.0014465022, -0.01831446, -0.006882749, 0.0...</td>\n",
       "    </tr>\n",
       "    <tr>\n",
       "      <th>10783</th>\n",
       "      <td>сейвер</td>\n",
       "      <td>1</td>\n",
       "      <td>[-0.013358746, -0.0002563931, 0.021314256, -0....</td>\n",
       "    </tr>\n",
       "    <tr>\n",
       "      <th>14421</th>\n",
       "      <td>фудстилист</td>\n",
       "      <td>1</td>\n",
       "      <td>[0.009526102, -0.015211814, 0.008865715, 0.030...</td>\n",
       "    </tr>\n",
       "    <tr>\n",
       "      <th>14487</th>\n",
       "      <td>фэйслифтинг</td>\n",
       "      <td>1</td>\n",
       "      <td>[0.017608402, 0.00046651773, 0.010723985, -0.0...</td>\n",
       "    </tr>\n",
       "  </tbody>\n",
       "</table>\n",
       "</div>"
      ],
      "text/plain": [
       "              word  label                                              model\n",
       "8149       неопанк      1  [0.0037404108, -0.008987354, 0.045442805, 0.01...\n",
       "6681      легисигн      1  [-0.0014465022, -0.01831446, -0.006882749, 0.0...\n",
       "10783       сейвер      1  [-0.013358746, -0.0002563931, 0.021314256, -0....\n",
       "14421   фудстилист      1  [0.009526102, -0.015211814, 0.008865715, 0.030...\n",
       "14487  фэйслифтинг      1  [0.017608402, 0.00046651773, 0.010723985, -0.0..."
      ]
     },
     "execution_count": 190,
     "metadata": {},
     "output_type": "execute_result"
    }
   ],
   "source": [
    "validation.loc[validation.label == 1].head()"
   ]
  },
  {
   "cell_type": "code",
   "execution_count": 191,
   "metadata": {},
   "outputs": [],
   "source": [
    "def predict_word(word):\n",
    "    return clf.predict(model[word].reshape(1, -1))[0]"
   ]
  },
  {
   "cell_type": "code",
   "execution_count": 192,
   "metadata": {},
   "outputs": [],
   "source": [
    "validation['prediction'] = validation.word.apply(predict_word)"
   ]
  },
  {
   "cell_type": "code",
   "execution_count": 193,
   "metadata": {},
   "outputs": [],
   "source": [
    "# tp = len(validation.loc[(validation.label == 1) & (validation.prediction == 1)])\n",
    "# fp = len(validation.loc[(validation.label == 0) & (validation.prediction == 1)])\n",
    "# tn = len(validation.loc[(validation.label == 0) & (validation.prediction == 0)])\n",
    "# fn = len(validation.loc[(validation.label == 1) & (validation.prediction == 0)])"
   ]
  },
  {
   "cell_type": "code",
   "execution_count": 194,
   "metadata": {},
   "outputs": [],
   "source": [
    "# tp, fp, tn, fn"
   ]
  },
  {
   "cell_type": "code",
   "execution_count": 195,
   "metadata": {},
   "outputs": [],
   "source": [
    "# precision = tp / (tp + fp)\n",
    "# precision"
   ]
  },
  {
   "cell_type": "code",
   "execution_count": 196,
   "metadata": {},
   "outputs": [],
   "source": [
    "# recall = tn / (tn + fp)\n",
    "# recall"
   ]
  },
  {
   "cell_type": "code",
   "execution_count": 197,
   "metadata": {},
   "outputs": [],
   "source": [
    "# f1 = 2 * (precision * recall) / (precision + recall)\n",
    "# f1"
   ]
  },
  {
   "cell_type": "code",
   "execution_count": 198,
   "metadata": {},
   "outputs": [
    {
     "data": {
      "text/plain": [
       "0.790896712701809"
      ]
     },
     "execution_count": 198,
     "metadata": {},
     "output_type": "execute_result"
    }
   ],
   "source": [
    "f1_score(validation.label.values, validation.prediction.values)"
   ]
  },
  {
   "cell_type": "code",
   "execution_count": null,
   "metadata": {},
   "outputs": [],
   "source": []
  }
 ],
 "metadata": {
  "kernelspec": {
   "display_name": "Python 3",
   "language": "python",
   "name": "python3"
  },
  "language_info": {
   "codemirror_mode": {
    "name": "ipython",
    "version": 3
   },
   "file_extension": ".py",
   "mimetype": "text/x-python",
   "name": "python",
   "nbconvert_exporter": "python",
   "pygments_lexer": "ipython3",
   "version": "3.7.6"
  }
 },
 "nbformat": 4,
 "nbformat_minor": 2
}
