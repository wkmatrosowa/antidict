{
  "nbformat": 4,
  "nbformat_minor": 0,
  "metadata": {
    "colab": {
      "name": "Expressive_forms_classification.ipynb",
      "provenance": [],
      "authorship_tag": "ABX9TyOk6CDJ6v6eXYvW6VizbKKr",
      "include_colab_link": true
    },
    "kernelspec": {
      "name": "python3",
      "display_name": "Python 3"
    }
  },
  "cells": [
    {
      "cell_type": "markdown",
      "metadata": {
        "id": "view-in-github",
        "colab_type": "text"
      },
      "source": [
        "<a href=\"https://colab.research.google.com/github/wksmirnowa/antidict/blob/master/Jupyter%20Notebooks/Expressive_forms_classification.ipynb\" target=\"_parent\"><img src=\"https://colab.research.google.com/assets/colab-badge.svg\" alt=\"Open In Colab\"/></a>"
      ]
    },
    {
      "cell_type": "code",
      "metadata": {
        "id": "X11efNCFMOCx",
        "colab_type": "code",
        "colab": {
          "base_uri": "https://localhost:8080/",
          "height": 326
        },
        "outputId": "2efe6f31-bfe5-4249-ca03-025e5c986e3c"
      },
      "source": [
        "!pip install --upgrade gensim"
      ],
      "execution_count": 2,
      "outputs": [
        {
          "output_type": "stream",
          "text": [
            "Requirement already up-to-date: gensim in /usr/local/lib/python3.6/dist-packages (3.8.1)\n",
            "Requirement already satisfied, skipping upgrade: smart-open>=1.8.1 in /usr/local/lib/python3.6/dist-packages (from gensim) (1.9.0)\n",
            "Requirement already satisfied, skipping upgrade: six>=1.5.0 in /usr/local/lib/python3.6/dist-packages (from gensim) (1.12.0)\n",
            "Requirement already satisfied, skipping upgrade: numpy>=1.11.3 in /usr/local/lib/python3.6/dist-packages (from gensim) (1.17.5)\n",
            "Requirement already satisfied, skipping upgrade: scipy>=0.18.1 in /usr/local/lib/python3.6/dist-packages (from gensim) (1.4.1)\n",
            "Requirement already satisfied, skipping upgrade: boto3 in /usr/local/lib/python3.6/dist-packages (from smart-open>=1.8.1->gensim) (1.11.15)\n",
            "Requirement already satisfied, skipping upgrade: requests in /usr/local/lib/python3.6/dist-packages (from smart-open>=1.8.1->gensim) (2.21.0)\n",
            "Requirement already satisfied, skipping upgrade: boto>=2.32 in /usr/local/lib/python3.6/dist-packages (from smart-open>=1.8.1->gensim) (2.49.0)\n",
            "Requirement already satisfied, skipping upgrade: botocore<1.15.0,>=1.14.15 in /usr/local/lib/python3.6/dist-packages (from boto3->smart-open>=1.8.1->gensim) (1.14.15)\n",
            "Requirement already satisfied, skipping upgrade: s3transfer<0.4.0,>=0.3.0 in /usr/local/lib/python3.6/dist-packages (from boto3->smart-open>=1.8.1->gensim) (0.3.3)\n",
            "Requirement already satisfied, skipping upgrade: jmespath<1.0.0,>=0.7.1 in /usr/local/lib/python3.6/dist-packages (from boto3->smart-open>=1.8.1->gensim) (0.9.4)\n",
            "Requirement already satisfied, skipping upgrade: idna<2.9,>=2.5 in /usr/local/lib/python3.6/dist-packages (from requests->smart-open>=1.8.1->gensim) (2.8)\n",
            "Requirement already satisfied, skipping upgrade: urllib3<1.25,>=1.21.1 in /usr/local/lib/python3.6/dist-packages (from requests->smart-open>=1.8.1->gensim) (1.24.3)\n",
            "Requirement already satisfied, skipping upgrade: chardet<3.1.0,>=3.0.2 in /usr/local/lib/python3.6/dist-packages (from requests->smart-open>=1.8.1->gensim) (3.0.4)\n",
            "Requirement already satisfied, skipping upgrade: certifi>=2017.4.17 in /usr/local/lib/python3.6/dist-packages (from requests->smart-open>=1.8.1->gensim) (2019.11.28)\n",
            "Requirement already satisfied, skipping upgrade: python-dateutil<3.0.0,>=2.1 in /usr/local/lib/python3.6/dist-packages (from botocore<1.15.0,>=1.14.15->boto3->smart-open>=1.8.1->gensim) (2.6.1)\n",
            "Requirement already satisfied, skipping upgrade: docutils<0.16,>=0.10 in /usr/local/lib/python3.6/dist-packages (from botocore<1.15.0,>=1.14.15->boto3->smart-open>=1.8.1->gensim) (0.15.2)\n"
          ],
          "name": "stdout"
        }
      ]
    },
    {
      "cell_type": "code",
      "metadata": {
        "id": "rPtqqqpWaIx6",
        "colab_type": "code",
        "colab": {}
      },
      "source": [
        "import pandas as pd\n",
        "import random"
      ],
      "execution_count": 0,
      "outputs": []
    },
    {
      "cell_type": "code",
      "metadata": {
        "id": "PjjC3tqUbArq",
        "colab_type": "code",
        "colab": {}
      },
      "source": [
        "f = open('expressive_words_train.txt').readlines()"
      ],
      "execution_count": 0,
      "outputs": []
    },
    {
      "cell_type": "code",
      "metadata": {
        "id": "wiss8DBcdCI-",
        "colab_type": "code",
        "outputId": "d6922301-fbce-41c6-d43b-3fa9ea87672a",
        "colab": {
          "base_uri": "https://localhost:8080/",
          "height": 34
        }
      },
      "source": [
        "def make_csv():\n",
        "    train_file = pd.read_csv('expressive_words_train.txt', header=None, names=['words'])\n",
        "    train_file.to_csv('expressive_words_train.txt', sep=',', header=False)\n",
        "    train_1 = pd.read_csv('expressive_words_train.txt')\n",
        "    value = 1\n",
        "    train_1.insert(loc=2, column='value', value=1)\n",
        "    print('done')\n",
        "\n",
        "make_csv()"
      ],
      "execution_count": 0,
      "outputs": [
        {
          "output_type": "stream",
          "text": [
            "done\n"
          ],
          "name": "stdout"
        }
      ]
    },
    {
      "cell_type": "code",
      "metadata": {
        "id": "tb0G8FfbeluQ",
        "colab_type": "code",
        "outputId": "bc16b441-f37e-4389-8561-99462f2eaef2",
        "colab": {
          "base_uri": "https://localhost:8080/",
          "height": 374
        }
      },
      "source": [
        "data = pd.read_csv('expressive_words_train.txt', names=['words'])\n",
        "data['values'] = 1\n",
        "data.to_csv('train_1.csv')\n",
        "data.insert(loc=2, column='value', value=1)\n",
        "train_data = pd.read_csv('train_1.csv')\n",
        "data.drop(['words'], axis=1, inplace=True)\n",
        "data['values'] = 1\n",
        "print(train_data.sample(20))"
      ],
      "execution_count": 0,
      "outputs": [
        {
          "output_type": "stream",
          "text": [
            "     Unnamed: 0            words  values\n",
            "214         214          конурку       1\n",
            "195         195         тигрёнок       1\n",
            "298         298        входнячок       1\n",
            "115         115          Манечка       1\n",
            "127         127          Любочка       1\n",
            "288         288        Никитосик       1\n",
            "197         197          львёнок       1\n",
            "271         271          маслице       1\n",
            "190         190        деньжонки       1\n",
            "101         101          божечки       1\n",
            "208         208  интереснысайтик       1\n",
            "323         323         мудоёбки       1\n",
            "90           90           Павлик       1\n",
            "26           26           детина       1\n",
            "155         155        карманчик       1\n",
            "426         426        магнитики       1\n",
            "64           64           Ванюша       1\n",
            "141         141       дороженька       1\n",
            "377         377          обойчик       1\n",
            "277         277          огурчик       1\n"
          ],
          "name": "stdout"
        }
      ]
    },
    {
      "cell_type": "code",
      "metadata": {
        "id": "HRyEm8VOgahd",
        "colab_type": "code",
        "outputId": "907e9896-4950-4e84-f4fa-833897c8fa1f",
        "colab": {
          "base_uri": "https://localhost:8080/",
          "height": 374
        }
      },
      "source": [
        "data = pd.read_csv('zaliznyak.txt', names=['words'])\n",
        "data['values'] = 0\n",
        "data.to_csv('train_0.csv')\n",
        "train_data = pd.read_csv('train_0.csv')\n",
        "print(train_data.sample(20))"
      ],
      "execution_count": 0,
      "outputs": [
        {
          "output_type": "stream",
          "text": [
            "      Unnamed: 0               words  values\n",
            "1689        1689        сдабриваемое       0\n",
            "1395        1395       пролинованном       0\n",
            "609          609          поводившее       0\n",
            "2034        2034             прокопы       0\n",
            "2268        2268         сличавшемся       0\n",
            "2642        2642          погорелому       0\n",
            "2360        2360            бикарбид       0\n",
            "2802        2802               сжнёт       0\n",
            "837          837        парафирующее       0\n",
            "2896        2896         сквитаешься       0\n",
            "584          584    занумеровывающем       0\n",
            "1559        1559  капитализировавшая       0\n",
            "1912        1912        растрепавшая       0\n",
            "896          896          коробчатей       0\n",
            "151          151        взбесившемся       0\n",
            "2029        2029         отодвинется       0\n",
            "150          150             посыпок       0\n",
            "2595        2595        раскритикует       0\n",
            "1634        1634      заглублявшеюся       0\n",
            "209          209        образумившем       0\n"
          ],
          "name": "stdout"
        }
      ]
    },
    {
      "cell_type": "code",
      "metadata": {
        "id": "JtG91Yr8jDLT",
        "colab_type": "code",
        "colab": {}
      },
      "source": [
        "counter = 0\n",
        "ff = open('train.csv', 'w+')\n",
        "source_lines = open('train_0.csv').readlines()\n",
        "amount_of_sources = len(source_lines)\n",
        "while counter < 1001:\n",
        "    print(\"counter: {}\".format(counter))\n",
        "    index = random.randint(0, amount_of_sources)\n",
        "    print(\"index: {}\".format(index))\n",
        "    ff.write(source_lines[index])\n",
        "    counter += 1"
      ],
      "execution_count": 0,
      "outputs": []
    },
    {
      "cell_type": "code",
      "metadata": {
        "id": "oOcb1UJyjlf4",
        "colab_type": "code",
        "outputId": "2ac2e484-b4f3-462f-d997-473e892fa92f",
        "colab": {
          "base_uri": "https://localhost:8080/",
          "height": 374
        }
      },
      "source": [
        "data = pd.read_csv('train.csv', names=['indexes','words','values'])\n",
        "print(data.sample(20))\n",
        "data.drop(['indexes'], axis=1, inplace=True)\n",
        "data.to_csv('train.csv')"
      ],
      "execution_count": 0,
      "outputs": [
        {
          "output_type": "stream",
          "text": [
            "     indexes             words values\n",
            "588    587.0         фестонном      0\n",
            "578    577.0        белильнями      0\n",
            "27      26.0      попонятливее      0\n",
            "445    444.0     пересрочившую      0\n",
            "522    521.0           исходит      0\n",
            "233    232.0  переволочившемся      0\n",
            "553    552.0    перешарившееся      0\n",
            "115    114.0      компромиссам      0\n",
            "416    415.0            ликуют      0\n",
            "247    246.0      пассифлорово      0\n",
            "467    466.0    ополоскавшимся      0\n",
            "127    126.0    правопреемнике      0\n",
            "275    274.0        пансионаты      0\n",
            "692    691.0        честностью      0\n",
            "706    705.0       припаривать      0\n",
            "654    653.0       заплёскивая      0\n",
            "547    546.0       соскребутся      0\n",
            "696    695.0     трамтарарамах      0\n",
            "259    258.0      вымахивавшей      0\n",
            "788    787.0        вступающих      0\n"
          ],
          "name": "stdout"
        }
      ]
    },
    {
      "cell_type": "code",
      "metadata": {
        "id": "7MNolJSykZuf",
        "colab_type": "code",
        "colab": {}
      },
      "source": [
        "import gensim\n",
        "import numpy as np\n",
        "\n",
        "from sklearn.metrics import f1_score\n",
        "from sklearn.linear_model import LogisticRegression\n",
        "from sklearn.model_selection import train_test_split\n",
        "import warnings\n",
        "warnings.filterwarnings(\"ignore\")"
      ],
      "execution_count": 0,
      "outputs": []
    },
    {
      "cell_type": "code",
      "metadata": {
        "id": "qBKzmarcnB-7",
        "colab_type": "code",
        "outputId": "71ab7876-b95b-4d1d-b6b1-860204f2fc34",
        "colab": {
          "base_uri": "https://localhost:8080/",
          "height": 204
        }
      },
      "source": [
        "!wget https://rusvectores.org/static/models/rusvectores4/fasttext/araneum_none_fasttextcbow_300_5_2018.tgz"
      ],
      "execution_count": 0,
      "outputs": [
        {
          "output_type": "stream",
          "text": [
            "--2020-03-14 10:35:05--  https://rusvectores.org/static/models/rusvectores4/fasttext/araneum_none_fasttextcbow_300_5_2018.tgz\n",
            "Resolving rusvectores.org (rusvectores.org)... 116.203.104.23\n",
            "Connecting to rusvectores.org (rusvectores.org)|116.203.104.23|:443... connected.\n",
            "HTTP request sent, awaiting response... 200 OK\n",
            "Length: 2691248108 (2.5G) [application/x-gzip]\n",
            "Saving to: ‘araneum_none_fasttextcbow_300_5_2018.tgz’\n",
            "\n",
            "araneum_none_fastte 100%[===================>]   2.51G  20.4MB/s    in 2m 8s   \n",
            "\n",
            "2020-03-14 10:37:14 (20.1 MB/s) - ‘araneum_none_fasttextcbow_300_5_2018.tgz’ saved [2691248108/2691248108]\n",
            "\n"
          ],
          "name": "stdout"
        }
      ]
    },
    {
      "cell_type": "code",
      "metadata": {
        "id": "-PGl7wxGnhph",
        "colab_type": "code",
        "colab": {}
      },
      "source": [
        "import tarfile\n",
        "tar = tarfile.open(\"araneum_none_fasttextcbow_300_5_2018.tgz\", \"r\")\n",
        "tar.extractall()"
      ],
      "execution_count": 0,
      "outputs": []
    },
    {
      "cell_type": "code",
      "metadata": {
        "id": "fd90JMVakohC",
        "colab_type": "code",
        "colab": {}
      },
      "source": [
        "model = gensim.models.KeyedVectors.load(\"araneum_none_fasttextcbow_300_5_2018.model\")"
      ],
      "execution_count": 0,
      "outputs": []
    },
    {
      "cell_type": "code",
      "metadata": {
        "id": "Ja_uovIcp--a",
        "colab_type": "code",
        "colab": {}
      },
      "source": [
        "data = pd.read_csv('train_1.csv')"
      ],
      "execution_count": 0,
      "outputs": []
    },
    {
      "cell_type": "code",
      "metadata": {
        "id": "SOFMSBo-sPsi",
        "colab_type": "code",
        "outputId": "71ddbb6b-36db-47c1-c722-5da73cddfa67",
        "colab": {
          "base_uri": "https://localhost:8080/",
          "height": 374
        }
      },
      "source": [
        "data1 = pd.read_csv('zaliznyak.txt', names=['words'])\n",
        "data1['values'] = 0\n",
        "data1.to_csv('forms.csv')\n",
        "data.insert(loc=2, column='value', value=0)\n",
        "train_data = pd.read_csv('forms.csv')\n",
        "data1.drop(['words'], axis=1, inplace=True)\n",
        "data1['values'] = 0\n",
        "print(train_data.sample(20))"
      ],
      "execution_count": 0,
      "outputs": [
        {
          "output_type": "stream",
          "text": [
            "      Unnamed: 0             words  values\n",
            "547          547    сострунивавшем       0\n",
            "932          932       распасовано       0\n",
            "835          835  психометрический       0\n",
            "1369        1369      перетанцевал       0\n",
            "762          762  абстрагирующуюся       0\n",
            "651          651      испрямлявших       0\n",
            "701          701         увещевала       0\n",
            "1882        1882             гасло       0\n",
            "1428        1428        хихоньками       0\n",
            "2728        2728          поверяла       0\n",
            "2764        2764     второразрядно       0\n",
            "37            37         сникавшее       0\n",
            "1728        1728       подстилаемы       0\n",
            "921          921        истязанном       0\n",
            "377          377     обмишурившего       0\n",
            "2472        2472    покалечившуюся       0\n",
            "425          425         удушавшие       0\n",
            "2505        2505       крапивницей       0\n",
            "2290        2290             карлу       0\n",
            "2155        2155    экспедиционные       0\n"
          ],
          "name": "stdout"
        }
      ]
    },
    {
      "cell_type": "code",
      "metadata": {
        "id": "wPQvBqSoqG5M",
        "colab_type": "code",
        "colab": {}
      },
      "source": [
        "with open('forms.csv') as file:\n",
        "    forms = file.readlines()\n",
        "forms = [word.strip('\\\"»«\\n)(') for word in forms]\n",
        "forms = [word.lower() for word in forms if word]\n",
        "labels = pd.Series(0, index=np.arange(len(forms)))\n",
        "forms = pd.DataFrame({'words': forms, 'values': labels})"
      ],
      "execution_count": 0,
      "outputs": []
    },
    {
      "cell_type": "code",
      "metadata": {
        "id": "6EExfvohstVo",
        "colab_type": "code",
        "colab": {}
      },
      "source": [
        "df = pd.concat([forms.sample(600), data], axis=0).sample(frac=1)"
      ],
      "execution_count": 0,
      "outputs": []
    },
    {
      "cell_type": "code",
      "metadata": {
        "id": "vsWNva8Tsw6y",
        "colab_type": "code",
        "colab": {}
      },
      "source": [
        "df['model'] = df.words.apply(lambda x: model[x])"
      ],
      "execution_count": 0,
      "outputs": []
    },
    {
      "cell_type": "code",
      "metadata": {
        "id": "xFYmDWP4QTK1",
        "colab_type": "code",
        "colab": {}
      },
      "source": [
        "X = np.vstack(df.model.values)\n",
        "y = df['values'].values"
      ],
      "execution_count": 0,
      "outputs": []
    },
    {
      "cell_type": "code",
      "metadata": {
        "id": "8MphyzJeQYXg",
        "colab_type": "code",
        "colab": {}
      },
      "source": [
        "X_train, X_test, y_train, y_test = train_test_split(X, y, random_state=42)"
      ],
      "execution_count": 0,
      "outputs": []
    },
    {
      "cell_type": "code",
      "metadata": {
        "id": "EpZSA0KDQcRf",
        "colab_type": "code",
        "colab": {}
      },
      "source": [
        "clf = LogisticRegression().fit(X_train, y_train)"
      ],
      "execution_count": 0,
      "outputs": []
    },
    {
      "cell_type": "code",
      "metadata": {
        "id": "WFi8qNXFQheR",
        "colab_type": "code",
        "colab": {
          "base_uri": "https://localhost:8080/",
          "height": 34
        },
        "outputId": "c028b165-97e0-493d-c355-8f3e26bf9407"
      },
      "source": [
        "y_pred = clf.predict(X_test)\n",
        "f1_score(y_test, y_pred)"
      ],
      "execution_count": 13,
      "outputs": [
        {
          "output_type": "execute_result",
          "data": {
            "text/plain": [
              "0.7243243243243244"
            ]
          },
          "metadata": {
            "tags": []
          },
          "execution_count": 13
        }
      ]
    }
  ]
}