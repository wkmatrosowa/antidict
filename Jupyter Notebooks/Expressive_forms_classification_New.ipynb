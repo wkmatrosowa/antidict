{
  "nbformat": 4,
  "nbformat_minor": 0,
  "metadata": {
    "colab": {
      "name": "Expressive_forms_classification.ipynb",
      "provenance": [],
      "authorship_tag": "ABX9TyMwjTxP5FowuSt3Dxh4EMpf",
      "include_colab_link": true
    },
    "kernelspec": {
      "name": "python3",
      "display_name": "Python 3"
    }
  },
  "cells": [
    {
      "cell_type": "markdown",
      "metadata": {
        "id": "view-in-github",
        "colab_type": "text"
      },
      "source": [
        "<a href=\"https://colab.research.google.com/github/wksmirnowa/antidict/blob/master/Jupyter%20Notebooks/Expressive_forms_classification_New.ipynb\" target=\"_parent\"><img src=\"https://colab.research.google.com/assets/colab-badge.svg\" alt=\"Open In Colab\"/></a>"
      ]
    },
    {
      "cell_type": "code",
      "metadata": {
        "id": "X11efNCFMOCx",
        "colab_type": "code",
        "outputId": "47f7b5d5-f1eb-4b38-d9d6-055986520c91",
        "colab": {
          "base_uri": "https://localhost:8080/",
          "height": 445
        }
      },
      "source": [
        "!pip install --upgrade gensim"
      ],
      "execution_count": 2,
      "outputs": [
        {
          "output_type": "stream",
          "text": [
            "Collecting gensim\n",
            "\u001b[?25l  Downloading https://files.pythonhosted.org/packages/1a/b3/8358842ee8e430f7eb8f996bdd06c146a71712b9848ed32f949ad44b5adf/gensim-3.8.2-cp36-cp36m-manylinux1_x86_64.whl (24.2MB)\n",
            "\u001b[K     |████████████████████████████████| 24.2MB 1.6MB/s \n",
            "\u001b[?25hRequirement already satisfied, skipping upgrade: six>=1.5.0 in /usr/local/lib/python3.6/dist-packages (from gensim) (1.12.0)\n",
            "Requirement already satisfied, skipping upgrade: numpy>=1.11.3 in /usr/local/lib/python3.6/dist-packages (from gensim) (1.18.2)\n",
            "Requirement already satisfied, skipping upgrade: scipy>=1.0.0 in /usr/local/lib/python3.6/dist-packages (from gensim) (1.4.1)\n",
            "Requirement already satisfied, skipping upgrade: smart-open>=1.8.1 in /usr/local/lib/python3.6/dist-packages (from gensim) (1.11.1)\n",
            "Requirement already satisfied, skipping upgrade: boto3 in /usr/local/lib/python3.6/dist-packages (from smart-open>=1.8.1->gensim) (1.12.39)\n",
            "Requirement already satisfied, skipping upgrade: boto in /usr/local/lib/python3.6/dist-packages (from smart-open>=1.8.1->gensim) (2.49.0)\n",
            "Requirement already satisfied, skipping upgrade: requests in /usr/local/lib/python3.6/dist-packages (from smart-open>=1.8.1->gensim) (2.21.0)\n",
            "Requirement already satisfied, skipping upgrade: s3transfer<0.4.0,>=0.3.0 in /usr/local/lib/python3.6/dist-packages (from boto3->smart-open>=1.8.1->gensim) (0.3.3)\n",
            "Requirement already satisfied, skipping upgrade: jmespath<1.0.0,>=0.7.1 in /usr/local/lib/python3.6/dist-packages (from boto3->smart-open>=1.8.1->gensim) (0.9.5)\n",
            "Requirement already satisfied, skipping upgrade: botocore<1.16.0,>=1.15.39 in /usr/local/lib/python3.6/dist-packages (from boto3->smart-open>=1.8.1->gensim) (1.15.39)\n",
            "Requirement already satisfied, skipping upgrade: certifi>=2017.4.17 in /usr/local/lib/python3.6/dist-packages (from requests->smart-open>=1.8.1->gensim) (2020.4.5.1)\n",
            "Requirement already satisfied, skipping upgrade: urllib3<1.25,>=1.21.1 in /usr/local/lib/python3.6/dist-packages (from requests->smart-open>=1.8.1->gensim) (1.24.3)\n",
            "Requirement already satisfied, skipping upgrade: chardet<3.1.0,>=3.0.2 in /usr/local/lib/python3.6/dist-packages (from requests->smart-open>=1.8.1->gensim) (3.0.4)\n",
            "Requirement already satisfied, skipping upgrade: idna<2.9,>=2.5 in /usr/local/lib/python3.6/dist-packages (from requests->smart-open>=1.8.1->gensim) (2.8)\n",
            "Requirement already satisfied, skipping upgrade: python-dateutil<3.0.0,>=2.1 in /usr/local/lib/python3.6/dist-packages (from botocore<1.16.0,>=1.15.39->boto3->smart-open>=1.8.1->gensim) (2.8.1)\n",
            "Requirement already satisfied, skipping upgrade: docutils<0.16,>=0.10 in /usr/local/lib/python3.6/dist-packages (from botocore<1.16.0,>=1.15.39->boto3->smart-open>=1.8.1->gensim) (0.15.2)\n",
            "Installing collected packages: gensim\n",
            "  Found existing installation: gensim 3.6.0\n",
            "    Uninstalling gensim-3.6.0:\n",
            "      Successfully uninstalled gensim-3.6.0\n",
            "Successfully installed gensim-3.8.2\n"
          ],
          "name": "stdout"
        }
      ]
    },
    {
      "cell_type": "code",
      "metadata": {
        "id": "rPtqqqpWaIx6",
        "colab_type": "code",
        "colab": {}
      },
      "source": [
        "import pandas as pd\n",
        "import random"
      ],
      "execution_count": 0,
      "outputs": []
    },
    {
      "cell_type": "code",
      "metadata": {
        "id": "tb0G8FfbeluQ",
        "colab_type": "code",
        "outputId": "397585a9-9719-477e-9b8e-0136583e67eb",
        "colab": {
          "base_uri": "https://localhost:8080/",
          "height": 374
        }
      },
      "source": [
        "data = pd.read_csv('expressive_words_train.txt', names=['words'])\n",
        "data['words'] = data.words.str.lower()\n",
        "data['values'] = 1\n",
        "print(data.sample(20))"
      ],
      "execution_count": 26,
      "outputs": [
        {
          "output_type": "stream",
          "text": [
            "          words  values\n",
            "220      светик       1\n",
            "308    тварюжка       1\n",
            "252      любаха       1\n",
            "277     огурчик       1\n",
            "251  любашенька       1\n",
            "275     пальчик       1\n",
            "141  дороженька       1\n",
            "391     филипки       1\n",
            "116      манюся       1\n",
            "76      верочка       1\n",
            "15    леляночка       1\n",
            "388  вскуснющим       1\n",
            "22     солнышко       1\n",
            "218   ребятками       1\n",
            "148    голосище       1\n",
            "174   легонький       1\n",
            "363     птэнчег       1\n",
            "254      мамаша       1\n",
            "296       супец       1\n",
            "431  задоринкой       1\n"
          ],
          "name": "stdout"
        }
      ]
    },
    {
      "cell_type": "code",
      "metadata": {
        "id": "HRyEm8VOgahd",
        "colab_type": "code",
        "outputId": "a2dc73f0-1590-4af7-b274-6e0eb3645188",
        "colab": {
          "base_uri": "https://localhost:8080/",
          "height": 374
        }
      },
      "source": [
        "data1 = pd.read_csv('zaliznyak.txt', names=['words'])\n",
        "data1['values'] = 0\n",
        "print(data1.sample(20))"
      ],
      "execution_count": 9,
      "outputs": [
        {
          "output_type": "stream",
          "text": [
            "                  words  values\n",
            "2277    теплофицируемую       0\n",
            "1220      подпоручиками       0\n",
            "2755         переключал       0\n",
            "1569           Строгину       0\n",
            "2024    наколачивавшего       0\n",
            "24             жучащими       0\n",
            "2633      подмасливайте       0\n",
            "2741            подвеет       0\n",
            "2783         сонливицей       0\n",
            "911         заставочный       0\n",
            "218         харчевенным       0\n",
            "906           замшившею       0\n",
            "502      перекатываемою       0\n",
            "401           влекущему       0\n",
            "1423         выигравшем       0\n",
            "2422  прибинтовывавшись       0\n",
            "1648          вестницей       0\n",
            "113           затявкают       0\n",
            "1160         острожными       0\n",
            "1326          сшибивших       0\n"
          ],
          "name": "stdout"
        }
      ]
    },
    {
      "cell_type": "code",
      "metadata": {
        "id": "7MNolJSykZuf",
        "colab_type": "code",
        "colab": {}
      },
      "source": [
        "import gensim\n",
        "import numpy as np\n",
        "\n",
        "from sklearn.metrics import f1_score\n",
        "from sklearn.linear_model import LogisticRegression\n",
        "from sklearn.model_selection import train_test_split\n",
        "import warnings\n",
        "warnings.filterwarnings(\"ignore\")"
      ],
      "execution_count": 0,
      "outputs": []
    },
    {
      "cell_type": "code",
      "metadata": {
        "id": "qBKzmarcnB-7",
        "colab_type": "code",
        "outputId": "66246b7a-189a-4a0d-dc8c-8ae001f58160",
        "colab": {
          "base_uri": "https://localhost:8080/",
          "height": 204
        }
      },
      "source": [
        "!wget https://rusvectores.org/static/models/rusvectores4/fasttext/araneum_none_fasttextcbow_300_5_2018.tgz"
      ],
      "execution_count": 11,
      "outputs": [
        {
          "output_type": "stream",
          "text": [
            "--2020-04-19 10:41:13--  https://rusvectores.org/static/models/rusvectores4/fasttext/araneum_none_fasttextcbow_300_5_2018.tgz\n",
            "Resolving rusvectores.org (rusvectores.org)... 116.203.104.23\n",
            "Connecting to rusvectores.org (rusvectores.org)|116.203.104.23|:443... connected.\n",
            "HTTP request sent, awaiting response... 200 OK\n",
            "Length: 2691248108 (2.5G) [application/x-gzip]\n",
            "Saving to: ‘araneum_none_fasttextcbow_300_5_2018.tgz’\n",
            "\n",
            "araneum_none_fastte 100%[===================>]   2.51G  28.0MB/s    in 94s     \n",
            "\n",
            "2020-04-19 10:42:47 (27.4 MB/s) - ‘araneum_none_fasttextcbow_300_5_2018.tgz’ saved [2691248108/2691248108]\n",
            "\n"
          ],
          "name": "stdout"
        }
      ]
    },
    {
      "cell_type": "code",
      "metadata": {
        "id": "-PGl7wxGnhph",
        "colab_type": "code",
        "colab": {}
      },
      "source": [
        "import tarfile\n",
        "tar = tarfile.open(\"araneum_none_fasttextcbow_300_5_2018.tgz\", \"r\")\n",
        "tar.extractall()"
      ],
      "execution_count": 0,
      "outputs": []
    },
    {
      "cell_type": "code",
      "metadata": {
        "id": "fd90JMVakohC",
        "colab_type": "code",
        "colab": {}
      },
      "source": [
        "model = gensim.models.KeyedVectors.load(\"araneum_none_fasttextcbow_300_5_2018.model\")"
      ],
      "execution_count": 0,
      "outputs": []
    },
    {
      "cell_type": "code",
      "metadata": {
        "id": "SOFMSBo-sPsi",
        "colab_type": "code",
        "outputId": "8b49558f-41a0-4699-8eab-28100bcb7c68",
        "colab": {
          "base_uri": "https://localhost:8080/",
          "height": 374
        }
      },
      "source": [
        "data1 = pd.read_csv('zaliznyak.txt', names=['words'])\n",
        "data1['values'] = 0\n",
        "print(data1.sample(20))"
      ],
      "execution_count": 34,
      "outputs": [
        {
          "output_type": "stream",
          "text": [
            "                  words  values\n",
            "2385        обмирщённее       0\n",
            "405          подвигавши       0\n",
            "1205   серебристо-серой       0\n",
            "640      разделившегося       0\n",
            "853            заходись       0\n",
            "2421      сокрушившемся       0\n",
            "600       позастёгнутей       0\n",
            "683         вопросившая       0\n",
            "639    заарендовавшемся       0\n",
            "1827        надлупившая       0\n",
            "22    обстрагивавшегося       0\n",
            "1195       вытисняешься       0\n",
            "818           клянчимою       0\n",
            "1886            буферен       0\n",
            "2843           шлюзовав       0\n",
            "2674        всовывавшею       0\n",
            "161       подковырявшее       0\n",
            "81          изрубцевало       0\n",
            "157           поновляла       0\n",
            "1160         острожными       0\n"
          ],
          "name": "stdout"
        }
      ]
    },
    {
      "cell_type": "code",
      "metadata": {
        "id": "6EExfvohstVo",
        "colab_type": "code",
        "colab": {
          "base_uri": "https://localhost:8080/",
          "height": 374
        },
        "outputId": "98485df7-b8f6-420b-d7cb-5e18a6066ed7"
      },
      "source": [
        "df = pd.concat([data1.sample(600), data], axis=0).sample(frac=1)\n",
        "print(df.sample(20))"
      ],
      "execution_count": 35,
      "outputs": [
        {
          "output_type": "stream",
          "text": [
            "                   words  values\n",
            "2750  противокоррозионна       0\n",
            "337           пиздявкать       1\n",
            "171      переучитываемую       0\n",
            "842          златокудрую       0\n",
            "549          изобличайся       0\n",
            "20               дочурка       1\n",
            "113               машута       1\n",
            "379            эпиграмма       0\n",
            "2177              диетах       0\n",
            "216               орешек       1\n",
            "254               мамаша       1\n",
            "2387           шкурящему       0\n",
            "1854     распахнувшегося       0\n",
            "165              семечко       1\n",
            "267              косичка       1\n",
            "258            печурочка       1\n",
            "721            винтуемою       0\n",
            "163             мордочка       1\n",
            "109             кудяблик       1\n",
            "847      перепрягающееся       0\n"
          ],
          "name": "stdout"
        }
      ]
    },
    {
      "cell_type": "code",
      "metadata": {
        "id": "vsWNva8Tsw6y",
        "colab_type": "code",
        "colab": {}
      },
      "source": [
        "df['model'] = df.words.apply(lambda x: model[x])"
      ],
      "execution_count": 0,
      "outputs": []
    },
    {
      "cell_type": "code",
      "metadata": {
        "id": "xFYmDWP4QTK1",
        "colab_type": "code",
        "colab": {}
      },
      "source": [
        "X = np.vstack(df.model.values)\n",
        "y = df['values'].values"
      ],
      "execution_count": 0,
      "outputs": []
    },
    {
      "cell_type": "code",
      "metadata": {
        "id": "8MphyzJeQYXg",
        "colab_type": "code",
        "colab": {}
      },
      "source": [
        "X_train, X_test, y_train, y_test = train_test_split(X, y, random_state=42)"
      ],
      "execution_count": 0,
      "outputs": []
    },
    {
      "cell_type": "code",
      "metadata": {
        "id": "EpZSA0KDQcRf",
        "colab_type": "code",
        "colab": {}
      },
      "source": [
        "clf = LogisticRegression().fit(X_train, y_train)"
      ],
      "execution_count": 0,
      "outputs": []
    },
    {
      "cell_type": "code",
      "metadata": {
        "id": "WFi8qNXFQheR",
        "colab_type": "code",
        "outputId": "7968ae6c-f394-4825-ec38-80ec489bf5fd",
        "colab": {
          "base_uri": "https://localhost:8080/",
          "height": 34
        }
      },
      "source": [
        "y_pred = clf.predict(X_test)\n",
        "f1_score(y_test, y_pred)"
      ],
      "execution_count": 40,
      "outputs": [
        {
          "output_type": "execute_result",
          "data": {
            "text/plain": [
              "0.7116564417177914"
            ]
          },
          "metadata": {
            "tags": []
          },
          "execution_count": 40
        }
      ]
    },
    {
      "cell_type": "code",
      "metadata": {
        "id": "OpALx-kIls9-",
        "colab_type": "code",
        "colab": {
          "base_uri": "https://localhost:8080/",
          "height": 119
        },
        "outputId": "fd440714-16b9-4683-9039-dc2c8d16a8bd"
      },
      "source": [
        "from sklearn import linear_model\n",
        "clf1 = linear_model.SGDClassifier(max_iter=1000, tol=1e-3)\n",
        "clf1.fit(X, y)"
      ],
      "execution_count": 41,
      "outputs": [
        {
          "output_type": "execute_result",
          "data": {
            "text/plain": [
              "SGDClassifier(alpha=0.0001, average=False, class_weight=None,\n",
              "              early_stopping=False, epsilon=0.1, eta0=0.0, fit_intercept=True,\n",
              "              l1_ratio=0.15, learning_rate='optimal', loss='hinge',\n",
              "              max_iter=1000, n_iter_no_change=5, n_jobs=None, penalty='l2',\n",
              "              power_t=0.5, random_state=None, shuffle=True, tol=0.001,\n",
              "              validation_fraction=0.1, verbose=0, warm_start=False)"
            ]
          },
          "metadata": {
            "tags": []
          },
          "execution_count": 41
        }
      ]
    },
    {
      "cell_type": "code",
      "metadata": {
        "id": "ii31nGZLpw_q",
        "colab_type": "code",
        "colab": {
          "base_uri": "https://localhost:8080/",
          "height": 34
        },
        "outputId": "840502b6-5b8d-4ae7-a92c-02b242e0ead1"
      },
      "source": [
        "y_pred = clf1.predict(X_test)\n",
        "f1_score(y_test, y_pred)"
      ],
      "execution_count": 42,
      "outputs": [
        {
          "output_type": "execute_result",
          "data": {
            "text/plain": [
              "0.888888888888889"
            ]
          },
          "metadata": {
            "tags": []
          },
          "execution_count": 42
        }
      ]
    }
  ]
}