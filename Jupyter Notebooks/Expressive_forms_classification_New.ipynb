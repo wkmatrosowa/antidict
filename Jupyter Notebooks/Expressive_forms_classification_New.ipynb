{
  "nbformat": 4,
  "nbformat_minor": 0,
  "metadata": {
    "colab": {
      "name": "Expressive_forms_classification.ipynb",
      "provenance": [],
      "authorship_tag": "ABX9TyMNhTtNl8Df5od9LsMK66T0",
      "include_colab_link": true
    },
    "kernelspec": {
      "name": "python3",
      "display_name": "Python 3"
    }
  },
  "cells": [
    {
      "cell_type": "markdown",
      "metadata": {
        "id": "view-in-github",
        "colab_type": "text"
      },
      "source": [
        "<a href=\"https://colab.research.google.com/github/wksmirnowa/antidict/blob/master/Jupyter%20Notebooks/Expressive_forms_classification_New.ipynb\" target=\"_parent\"><img src=\"https://colab.research.google.com/assets/colab-badge.svg\" alt=\"Open In Colab\"/></a>"
      ]
    },
    {
      "cell_type": "code",
      "metadata": {
        "id": "X11efNCFMOCx",
        "colab_type": "code",
        "outputId": "d0206530-2f0f-4337-98a1-953da14f7338",
        "colab": {
          "base_uri": "https://localhost:8080/",
          "height": 326
        }
      },
      "source": [
        "!pip install --upgrade gensim"
      ],
      "execution_count": 108,
      "outputs": [
        {
          "output_type": "stream",
          "text": [
            "Requirement already up-to-date: gensim in /usr/local/lib/python3.6/dist-packages (3.8.2)\n",
            "Requirement already satisfied, skipping upgrade: numpy>=1.11.3 in /usr/local/lib/python3.6/dist-packages (from gensim) (1.18.2)\n",
            "Requirement already satisfied, skipping upgrade: six>=1.5.0 in /usr/local/lib/python3.6/dist-packages (from gensim) (1.12.0)\n",
            "Requirement already satisfied, skipping upgrade: smart-open>=1.8.1 in /usr/local/lib/python3.6/dist-packages (from gensim) (1.11.1)\n",
            "Requirement already satisfied, skipping upgrade: scipy>=1.0.0 in /usr/local/lib/python3.6/dist-packages (from gensim) (1.4.1)\n",
            "Requirement already satisfied, skipping upgrade: boto3 in /usr/local/lib/python3.6/dist-packages (from smart-open>=1.8.1->gensim) (1.12.39)\n",
            "Requirement already satisfied, skipping upgrade: requests in /usr/local/lib/python3.6/dist-packages (from smart-open>=1.8.1->gensim) (2.21.0)\n",
            "Requirement already satisfied, skipping upgrade: boto in /usr/local/lib/python3.6/dist-packages (from smart-open>=1.8.1->gensim) (2.49.0)\n",
            "Requirement already satisfied, skipping upgrade: jmespath<1.0.0,>=0.7.1 in /usr/local/lib/python3.6/dist-packages (from boto3->smart-open>=1.8.1->gensim) (0.9.5)\n",
            "Requirement already satisfied, skipping upgrade: s3transfer<0.4.0,>=0.3.0 in /usr/local/lib/python3.6/dist-packages (from boto3->smart-open>=1.8.1->gensim) (0.3.3)\n",
            "Requirement already satisfied, skipping upgrade: botocore<1.16.0,>=1.15.39 in /usr/local/lib/python3.6/dist-packages (from boto3->smart-open>=1.8.1->gensim) (1.15.39)\n",
            "Requirement already satisfied, skipping upgrade: chardet<3.1.0,>=3.0.2 in /usr/local/lib/python3.6/dist-packages (from requests->smart-open>=1.8.1->gensim) (3.0.4)\n",
            "Requirement already satisfied, skipping upgrade: urllib3<1.25,>=1.21.1 in /usr/local/lib/python3.6/dist-packages (from requests->smart-open>=1.8.1->gensim) (1.24.3)\n",
            "Requirement already satisfied, skipping upgrade: idna<2.9,>=2.5 in /usr/local/lib/python3.6/dist-packages (from requests->smart-open>=1.8.1->gensim) (2.8)\n",
            "Requirement already satisfied, skipping upgrade: certifi>=2017.4.17 in /usr/local/lib/python3.6/dist-packages (from requests->smart-open>=1.8.1->gensim) (2020.4.5.1)\n",
            "Requirement already satisfied, skipping upgrade: docutils<0.16,>=0.10 in /usr/local/lib/python3.6/dist-packages (from botocore<1.16.0,>=1.15.39->boto3->smart-open>=1.8.1->gensim) (0.15.2)\n",
            "Requirement already satisfied, skipping upgrade: python-dateutil<3.0.0,>=2.1 in /usr/local/lib/python3.6/dist-packages (from botocore<1.16.0,>=1.15.39->boto3->smart-open>=1.8.1->gensim) (2.8.1)\n"
          ],
          "name": "stdout"
        }
      ]
    },
    {
      "cell_type": "code",
      "metadata": {
        "id": "rPtqqqpWaIx6",
        "colab_type": "code",
        "colab": {}
      },
      "source": [
        "import pandas as pd\n",
        "import random"
      ],
      "execution_count": 0,
      "outputs": []
    },
    {
      "cell_type": "code",
      "metadata": {
        "id": "PjjC3tqUbArq",
        "colab_type": "code",
        "colab": {}
      },
      "source": [
        "f = open('expressive_words_train.txt').readlines()"
      ],
      "execution_count": 0,
      "outputs": []
    },
    {
      "cell_type": "code",
      "metadata": {
        "id": "wiss8DBcdCI-",
        "colab_type": "code",
        "outputId": "cb65eeeb-360d-4a10-e9c8-d9794742a763",
        "colab": {
          "base_uri": "https://localhost:8080/",
          "height": 34
        }
      },
      "source": [
        "def make_csv():\n",
        "    train_file = pd.read_csv('expressive_words_train.txt', header=None, names=['words'])\n",
        "    train_file.to_csv('expressive_words_train.txt', sep=',', header=False)\n",
        "    train_1 = pd.read_csv('expressive_words_train.txt')\n",
        "    value = 1\n",
        "    train_1.insert(loc=2, column='value', value=1)\n",
        "    print('done')\n",
        "\n",
        "make_csv()"
      ],
      "execution_count": 111,
      "outputs": [
        {
          "output_type": "stream",
          "text": [
            "done\n"
          ],
          "name": "stdout"
        }
      ]
    },
    {
      "cell_type": "code",
      "metadata": {
        "id": "tb0G8FfbeluQ",
        "colab_type": "code",
        "outputId": "2a63a4f0-e83d-4f82-c2e0-6fba85ec615e",
        "colab": {
          "base_uri": "https://localhost:8080/",
          "height": 374
        }
      },
      "source": [
        "data = pd.read_csv('expressive_words_train.txt', names=['words'])\n",
        "data['values'] = 1\n",
        "print(data.sample(20))"
      ],
      "execution_count": 112,
      "outputs": [
        {
          "output_type": "stream",
          "text": [
            "           words  values\n",
            "50       Олюлька       1\n",
            "112       Машуня       1\n",
            "385       июльки       1\n",
            "214      конурку       1\n",
            "274     сердечко       1\n",
            "378       баблки       1\n",
            "215      блошку        1\n",
            "303       ганюша       1\n",
            "237     работяга       1\n",
            "354       кисусь       1\n",
            "424      ключика       1\n",
            "298    входнячок       1\n",
            "83        Витька       1\n",
            "42      Иванушка       1\n",
            "238       умняга       1\n",
            "325  рёзовенькое       1\n",
            "171    воробушек       1\n",
            "145    зеркальце       1\n",
            "397   собачундру       1\n",
            "87       Антошка       1\n"
          ],
          "name": "stdout"
        }
      ]
    },
    {
      "cell_type": "code",
      "metadata": {
        "id": "HRyEm8VOgahd",
        "colab_type": "code",
        "outputId": "c25b20f0-5ad2-4943-d793-ad152138eb79",
        "colab": {
          "base_uri": "https://localhost:8080/",
          "height": 374
        }
      },
      "source": [
        "data1 = pd.read_csv('zaliznyak.txt', names=['words'])\n",
        "data1['values'] = 0\n",
        "print(data1.sample(20))"
      ],
      "execution_count": 113,
      "outputs": [
        {
          "output_type": "stream",
          "text": [
            "                    words  values\n",
            "1620            чавканьях       0\n",
            "408           устоявшихся       0\n",
            "406                привад       0\n",
            "2888             наважьей       0\n",
            "1199            отжимного       0\n",
            "535             добриться       0\n",
            "1780       контрабасистки       0\n",
            "179    поперескабливаемей       0\n",
            "992          горисполкоме       0\n",
            "2130  концертмейстерского       0\n",
            "2620           смудрившем       0\n",
            "1403          цейлонскому       0\n",
            "796           освиставшей       0\n",
            "2699          заплёскивая       0\n",
            "1341     поковыривающуюся       0\n",
            "120            прикасаюсь       0\n",
            "2442              тычущую       0\n",
            "599        хромировочному       0\n",
            "70          выклепавшуюся       0\n",
            "2161  индустриализирующее       0\n"
          ],
          "name": "stdout"
        }
      ]
    },
    {
      "cell_type": "code",
      "metadata": {
        "id": "7MNolJSykZuf",
        "colab_type": "code",
        "colab": {}
      },
      "source": [
        "import gensim\n",
        "import numpy as np\n",
        "\n",
        "from sklearn.metrics import f1_score\n",
        "from sklearn.linear_model import LogisticRegression\n",
        "from sklearn.model_selection import train_test_split\n",
        "import warnings\n",
        "warnings.filterwarnings(\"ignore\")"
      ],
      "execution_count": 0,
      "outputs": []
    },
    {
      "cell_type": "code",
      "metadata": {
        "id": "qBKzmarcnB-7",
        "colab_type": "code",
        "outputId": "d665be36-8a25-4088-e123-571255bb5f28",
        "colab": {
          "base_uri": "https://localhost:8080/",
          "height": 204
        }
      },
      "source": [
        "!wget https://rusvectores.org/static/models/rusvectores4/fasttext/araneum_none_fasttextcbow_300_5_2018.tgz"
      ],
      "execution_count": 115,
      "outputs": [
        {
          "output_type": "stream",
          "text": [
            "--2020-04-18 22:43:44--  https://rusvectores.org/static/models/rusvectores4/fasttext/araneum_none_fasttextcbow_300_5_2018.tgz\n",
            "Resolving rusvectores.org (rusvectores.org)... 116.203.104.23\n",
            "Connecting to rusvectores.org (rusvectores.org)|116.203.104.23|:443... connected.\n",
            "HTTP request sent, awaiting response... 200 OK\n",
            "Length: 2691248108 (2.5G) [application/x-gzip]\n",
            "Saving to: ‘araneum_none_fasttextcbow_300_5_2018.tgz.1’\n",
            "\n",
            "araneum_none_fastte 100%[===================>]   2.51G  19.9MB/s    in 2m 10s  \n",
            "\n",
            "2020-04-18 22:45:54 (19.8 MB/s) - ‘araneum_none_fasttextcbow_300_5_2018.tgz.1’ saved [2691248108/2691248108]\n",
            "\n"
          ],
          "name": "stdout"
        }
      ]
    },
    {
      "cell_type": "code",
      "metadata": {
        "id": "-PGl7wxGnhph",
        "colab_type": "code",
        "colab": {}
      },
      "source": [
        "import tarfile\n",
        "tar = tarfile.open(\"araneum_none_fasttextcbow_300_5_2018.tgz\", \"r\")\n",
        "tar.extractall()"
      ],
      "execution_count": 0,
      "outputs": []
    },
    {
      "cell_type": "code",
      "metadata": {
        "id": "fd90JMVakohC",
        "colab_type": "code",
        "colab": {}
      },
      "source": [
        "model = gensim.models.KeyedVectors.load(\"araneum_none_fasttextcbow_300_5_2018.model\")"
      ],
      "execution_count": 0,
      "outputs": []
    },
    {
      "cell_type": "code",
      "metadata": {
        "id": "Ja_uovIcp--a",
        "colab_type": "code",
        "colab": {}
      },
      "source": [
        "data = pd.read_csv('train_1.csv')"
      ],
      "execution_count": 0,
      "outputs": []
    },
    {
      "cell_type": "code",
      "metadata": {
        "id": "SOFMSBo-sPsi",
        "colab_type": "code",
        "outputId": "b6d864f4-0c50-4be4-cf2b-2c54a6cdb394",
        "colab": {
          "base_uri": "https://localhost:8080/",
          "height": 374
        }
      },
      "source": [
        "data1 = pd.read_csv('zaliznyak.txt', names=['words'])\n",
        "data1['values'] = 0\n",
        "print(data1.sample(20))\n",
        "data.insert(loc=2, column='value', value=0)"
      ],
      "execution_count": 134,
      "outputs": [
        {
          "output_type": "stream",
          "text": [
            "                  words  values\n",
            "2196        нарастивший       0\n",
            "1611          мотоватых       0\n",
            "1279            засунем       0\n",
            "2922      ошибочностями       0\n",
            "1277  раскошеливающимся       0\n",
            "2549     подначившемуся       0\n",
            "2033      перепахавшись       0\n",
            "2536       замучиваемая       0\n",
            "376       разбойничаешь       0\n",
            "2109      уготовленному       0\n",
            "2013    заважживавшиеся       0\n",
            "1995     расхлёбывавшей       0\n",
            "632           бахромкам       0\n",
            "1725          улещаемся       0\n",
            "2512          дословной       0\n",
            "202         вверявшеюся       0\n",
            "399         счастливцев       0\n",
            "517         поставщицам       0\n",
            "1429  проштамповавшемся       0\n",
            "528          глотаниями       0\n"
          ],
          "name": "stdout"
        }
      ]
    },
    {
      "cell_type": "code",
      "metadata": {
        "id": "6EExfvohstVo",
        "colab_type": "code",
        "colab": {
          "base_uri": "https://localhost:8080/",
          "height": 374
        },
        "outputId": "a3b51356-83a8-4cc8-a66c-fcb3dd36e387"
      },
      "source": [
        "df = pd.concat([data1, data], axis=0).sample(frac=1)\n",
        "print(df.sample(20))"
      ],
      "execution_count": 135,
      "outputs": [
        {
          "output_type": "stream",
          "text": [
            "                 words  values  Unnamed: 0  value\n",
            "970      барражирующая       0         NaN    NaN\n",
            "211           однушках       1       211.0    0.0\n",
            "435         папенькино       1       435.0    0.0\n",
            "2670   вредоносностями       0         NaN    NaN\n",
            "1089        догулявшие       0         NaN    NaN\n",
            "407          пузанчике       1       407.0    0.0\n",
            "1958  незамедлительнее       0         NaN    NaN\n",
            "1012       приписанных       0         NaN    NaN\n",
            "580      разобщившиеся       0         NaN    NaN\n",
            "628       сравнявшихся       0         NaN    NaN\n",
            "1229         стеблисто       0         NaN    NaN\n",
            "1271  перенюхивавшемся       0         NaN    NaN\n",
            "2205          захирело       0         NaN    NaN\n",
            "2824            засплю       0         NaN    NaN\n",
            "91             Павлуша       1        91.0    0.0\n",
            "2235      раскалываемо       0         NaN    NaN\n",
            "1004     пристойностью       0         NaN    NaN\n",
            "869       букетировкою       0         NaN    NaN\n",
            "216        утраивающим       0         NaN    NaN\n",
            "2479    поборонившимся       0         NaN    NaN\n"
          ],
          "name": "stdout"
        }
      ]
    },
    {
      "cell_type": "code",
      "metadata": {
        "id": "vsWNva8Tsw6y",
        "colab_type": "code",
        "colab": {}
      },
      "source": [
        "df['model'] = df.words.apply(lambda x: model[x])"
      ],
      "execution_count": 0,
      "outputs": []
    },
    {
      "cell_type": "code",
      "metadata": {
        "id": "xFYmDWP4QTK1",
        "colab_type": "code",
        "colab": {}
      },
      "source": [
        "X = np.vstack(df.model.values)\n",
        "y = df['values'].values"
      ],
      "execution_count": 0,
      "outputs": []
    },
    {
      "cell_type": "code",
      "metadata": {
        "id": "8MphyzJeQYXg",
        "colab_type": "code",
        "colab": {}
      },
      "source": [
        "X_train, X_test, y_train, y_test = train_test_split(X, y, random_state=42)"
      ],
      "execution_count": 0,
      "outputs": []
    },
    {
      "cell_type": "code",
      "metadata": {
        "id": "EpZSA0KDQcRf",
        "colab_type": "code",
        "colab": {}
      },
      "source": [
        "clf = LogisticRegression().fit(X_train, y_train)"
      ],
      "execution_count": 0,
      "outputs": []
    },
    {
      "cell_type": "code",
      "metadata": {
        "id": "WFi8qNXFQheR",
        "colab_type": "code",
        "outputId": "ede1eaa4-0e21-455a-b250-3f489080857c",
        "colab": {
          "base_uri": "https://localhost:8080/",
          "height": 34
        }
      },
      "source": [
        "y_pred = clf.predict(X_test)\n",
        "f1_score(y_test, y_pred)"
      ],
      "execution_count": 140,
      "outputs": [
        {
          "output_type": "execute_result",
          "data": {
            "text/plain": [
              "0.32394366197183105"
            ]
          },
          "metadata": {
            "tags": []
          },
          "execution_count": 140
        }
      ]
    }
  ]
}