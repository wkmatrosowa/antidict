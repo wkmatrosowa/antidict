{
  "nbformat": 4,
  "nbformat_minor": 0,
  "metadata": {
    "colab": {
      "name": "Expressive_forms_classification.ipynb",
      "provenance": [],
      "authorship_tag": "ABX9TyOKeJtlsEMywXgSARlg46Yv",
      "include_colab_link": true
    },
    "kernelspec": {
      "name": "python3",
      "display_name": "Python 3"
    }
  },
  "cells": [
    {
      "cell_type": "markdown",
      "metadata": {
        "id": "view-in-github",
        "colab_type": "text"
      },
      "source": [
        "<a href=\"https://colab.research.google.com/github/wksmirnowa/antidict/blob/master/Jupyter%20Notebooks/Expressive_forms_classification_New.ipynb\" target=\"_parent\"><img src=\"https://colab.research.google.com/assets/colab-badge.svg\" alt=\"Open In Colab\"/></a>"
      ]
    },
    {
      "cell_type": "code",
      "metadata": {
        "id": "X11efNCFMOCx",
        "colab_type": "code",
        "outputId": "d272864e-925e-455c-edb3-eca40e54e0ec",
        "colab": {
          "base_uri": "https://localhost:8080/",
          "height": 445
        }
      },
      "source": [
        "!pip install --upgrade gensim"
      ],
      "execution_count": 1,
      "outputs": [
        {
          "output_type": "stream",
          "text": [
            "Collecting gensim\n",
            "\u001b[?25l  Downloading https://files.pythonhosted.org/packages/2b/e0/fa6326251692056dc880a64eb22117e03269906ba55a6864864d24ec8b4e/gensim-3.8.3-cp36-cp36m-manylinux1_x86_64.whl (24.2MB)\n",
            "\u001b[K     |████████████████████████████████| 24.2MB 173kB/s \n",
            "\u001b[?25hRequirement already satisfied, skipping upgrade: six>=1.5.0 in /usr/local/lib/python3.6/dist-packages (from gensim) (1.12.0)\n",
            "Requirement already satisfied, skipping upgrade: smart-open>=1.8.1 in /usr/local/lib/python3.6/dist-packages (from gensim) (2.0.0)\n",
            "Requirement already satisfied, skipping upgrade: scipy>=0.18.1 in /usr/local/lib/python3.6/dist-packages (from gensim) (1.4.1)\n",
            "Requirement already satisfied, skipping upgrade: numpy>=1.11.3 in /usr/local/lib/python3.6/dist-packages (from gensim) (1.18.4)\n",
            "Requirement already satisfied, skipping upgrade: boto3 in /usr/local/lib/python3.6/dist-packages (from smart-open>=1.8.1->gensim) (1.13.4)\n",
            "Requirement already satisfied, skipping upgrade: requests in /usr/local/lib/python3.6/dist-packages (from smart-open>=1.8.1->gensim) (2.23.0)\n",
            "Requirement already satisfied, skipping upgrade: boto in /usr/local/lib/python3.6/dist-packages (from smart-open>=1.8.1->gensim) (2.49.0)\n",
            "Requirement already satisfied, skipping upgrade: botocore<1.17.0,>=1.16.4 in /usr/local/lib/python3.6/dist-packages (from boto3->smart-open>=1.8.1->gensim) (1.16.4)\n",
            "Requirement already satisfied, skipping upgrade: jmespath<1.0.0,>=0.7.1 in /usr/local/lib/python3.6/dist-packages (from boto3->smart-open>=1.8.1->gensim) (0.9.5)\n",
            "Requirement already satisfied, skipping upgrade: s3transfer<0.4.0,>=0.3.0 in /usr/local/lib/python3.6/dist-packages (from boto3->smart-open>=1.8.1->gensim) (0.3.3)\n",
            "Requirement already satisfied, skipping upgrade: certifi>=2017.4.17 in /usr/local/lib/python3.6/dist-packages (from requests->smart-open>=1.8.1->gensim) (2020.4.5.1)\n",
            "Requirement already satisfied, skipping upgrade: urllib3!=1.25.0,!=1.25.1,<1.26,>=1.21.1 in /usr/local/lib/python3.6/dist-packages (from requests->smart-open>=1.8.1->gensim) (1.24.3)\n",
            "Requirement already satisfied, skipping upgrade: chardet<4,>=3.0.2 in /usr/local/lib/python3.6/dist-packages (from requests->smart-open>=1.8.1->gensim) (3.0.4)\n",
            "Requirement already satisfied, skipping upgrade: idna<3,>=2.5 in /usr/local/lib/python3.6/dist-packages (from requests->smart-open>=1.8.1->gensim) (2.9)\n",
            "Requirement already satisfied, skipping upgrade: python-dateutil<3.0.0,>=2.1 in /usr/local/lib/python3.6/dist-packages (from botocore<1.17.0,>=1.16.4->boto3->smart-open>=1.8.1->gensim) (2.8.1)\n",
            "Requirement already satisfied, skipping upgrade: docutils<0.16,>=0.10 in /usr/local/lib/python3.6/dist-packages (from botocore<1.17.0,>=1.16.4->boto3->smart-open>=1.8.1->gensim) (0.15.2)\n",
            "Installing collected packages: gensim\n",
            "  Found existing installation: gensim 3.6.0\n",
            "    Uninstalling gensim-3.6.0:\n",
            "      Successfully uninstalled gensim-3.6.0\n",
            "Successfully installed gensim-3.8.3\n"
          ],
          "name": "stdout"
        }
      ]
    },
    {
      "cell_type": "code",
      "metadata": {
        "id": "rPtqqqpWaIx6",
        "colab_type": "code",
        "colab": {}
      },
      "source": [
        "import pandas as pd"
      ],
      "execution_count": 0,
      "outputs": []
    },
    {
      "cell_type": "code",
      "metadata": {
        "id": "tb0G8FfbeluQ",
        "colab_type": "code",
        "outputId": "6141add9-7584-4adf-b363-37a08e2492fb",
        "colab": {
          "base_uri": "https://localhost:8080/",
          "height": 374
        }
      },
      "source": [
        "data = pd.read_csv('expressive_words_train.txt', names=['words'])\n",
        "data['words'] = data.words.str.lower()\n",
        "data['values'] = 1\n",
        "print(data.sample(20))"
      ],
      "execution_count": 4,
      "outputs": [
        {
          "output_type": "stream",
          "text": [
            "            words  values\n",
            "146    старикашка       1\n",
            "318   пятистенкой       1\n",
            "221       соколик       1\n",
            "405      погодкам       1\n",
            "153        снежок       1\n",
            "287       никитос       1\n",
            "40        катюшка       1\n",
            "6          кисуля       1\n",
            "220        светик       1\n",
            "431    задоринкой       1\n",
            "16     заколдовка       1\n",
            "412  господинчики       1\n",
            "26         детина       1\n",
            "242      бабулька       1\n",
            "116        манюся       1\n",
            "315    крупнячком       1\n",
            "397    собачундру       1\n",
            "376    глистовуха       1\n",
            "207     артемидку       1\n",
            "293        юрасик       1\n"
          ],
          "name": "stdout"
        }
      ]
    },
    {
      "cell_type": "code",
      "metadata": {
        "id": "HRyEm8VOgahd",
        "colab_type": "code",
        "outputId": "f088a8d0-c082-4009-abbe-d4b034005df6",
        "colab": {
          "base_uri": "https://localhost:8080/",
          "height": 374
        }
      },
      "source": [
        "data1 = pd.read_csv('zaliznyak.txt', names=['words'])\n",
        "data1['values'] = 0\n",
        "print(data1.sample(20))"
      ],
      "execution_count": 5,
      "outputs": [
        {
          "output_type": "stream",
          "text": [
            "                  words  values\n",
            "723             почтена       0\n",
            "107           комлистой       0\n",
            "1999         фильтровая       0\n",
            "2555       облепляющими       0\n",
            "340          развратней       0\n",
            "581            рычажкам       0\n",
            "2182         серебряной       0\n",
            "714   простругивающееся       0\n",
            "1837           амиловая       0\n",
            "681          отопритесь       0\n",
            "2382        разделяться       0\n",
            "219    попреисполненнее       0\n",
            "502      перекатываемою       0\n",
            "2323     расславившееся       0\n",
            "954         испрыскивал       0\n",
            "1392        загружавшем       0\n",
            "519             погребе       0\n",
            "2198             башами       0\n",
            "1617        приращённою       0\n",
            "1378         лесовозном       0\n"
          ],
          "name": "stdout"
        }
      ]
    },
    {
      "cell_type": "code",
      "metadata": {
        "id": "7MNolJSykZuf",
        "colab_type": "code",
        "colab": {}
      },
      "source": [
        "import gensim\n",
        "import numpy as np\n",
        "\n",
        "from sklearn.metrics import f1_score\n",
        "from sklearn.linear_model import LogisticRegression\n",
        "from sklearn.model_selection import train_test_split\n",
        "import warnings\n",
        "warnings.filterwarnings(\"ignore\")"
      ],
      "execution_count": 0,
      "outputs": []
    },
    {
      "cell_type": "code",
      "metadata": {
        "id": "qBKzmarcnB-7",
        "colab_type": "code",
        "outputId": "75080408-4516-4e76-cdc9-2cc6f8ca92e7",
        "colab": {
          "base_uri": "https://localhost:8080/",
          "height": 204
        }
      },
      "source": [
        "!wget https://rusvectores.org/static/models/rusvectores4/fasttext/araneum_none_fasttextcbow_300_5_2018.tgz"
      ],
      "execution_count": 7,
      "outputs": [
        {
          "output_type": "stream",
          "text": [
            "--2020-05-17 09:31:10--  https://rusvectores.org/static/models/rusvectores4/fasttext/araneum_none_fasttextcbow_300_5_2018.tgz\n",
            "Resolving rusvectores.org (rusvectores.org)... 116.203.104.23\n",
            "Connecting to rusvectores.org (rusvectores.org)|116.203.104.23|:443... connected.\n",
            "HTTP request sent, awaiting response... 200 OK\n",
            "Length: 2691248108 (2.5G) [application/x-gzip]\n",
            "Saving to: ‘araneum_none_fasttextcbow_300_5_2018.tgz’\n",
            "\n",
            "araneum_none_fastte 100%[===================>]   2.51G  28.1MB/s    in 92s     \n",
            "\n",
            "2020-05-17 09:32:42 (27.9 MB/s) - ‘araneum_none_fasttextcbow_300_5_2018.tgz’ saved [2691248108/2691248108]\n",
            "\n"
          ],
          "name": "stdout"
        }
      ]
    },
    {
      "cell_type": "code",
      "metadata": {
        "id": "-PGl7wxGnhph",
        "colab_type": "code",
        "colab": {}
      },
      "source": [
        "import tarfile\n",
        "tar = tarfile.open(\"araneum_none_fasttextcbow_300_5_2018.tgz\", \"r\")\n",
        "tar.extractall()"
      ],
      "execution_count": 0,
      "outputs": []
    },
    {
      "cell_type": "code",
      "metadata": {
        "id": "fd90JMVakohC",
        "colab_type": "code",
        "colab": {}
      },
      "source": [
        "model = gensim.models.KeyedVectors.load(\"araneum_none_fasttextcbow_300_5_2018.model\")"
      ],
      "execution_count": 0,
      "outputs": []
    },
    {
      "cell_type": "code",
      "metadata": {
        "id": "6EExfvohstVo",
        "colab_type": "code",
        "outputId": "c44af47b-7489-45b5-95cf-ae54cfbc662e",
        "colab": {
          "base_uri": "https://localhost:8080/",
          "height": 374
        }
      },
      "source": [
        "df = pd.concat([data1.sample(600), data], axis=0).sample(frac=1)\n",
        "print(df.sample(20))"
      ],
      "execution_count": 10,
      "outputs": [
        {
          "output_type": "stream",
          "text": [
            "                 words  values\n",
            "2420        вытираемей       0\n",
            "817            курочна       0\n",
            "41            катенька       1\n",
            "1917      взъедавшимся       0\n",
            "190            кубковы       0\n",
            "2094       хромируемой       0\n",
            "200          архичасто       1\n",
            "1556  переволочившемся       0\n",
            "129            наташка       1\n",
            "360          росиянцем       1\n",
            "2159         подпорота       0\n",
            "419          шаромыжки       1\n",
            "14         замерзайкой       1\n",
            "187          мальчичек       1\n",
            "1863        труднейших       0\n",
            "22            солнышко       1\n",
            "2678         сродником       0\n",
            "452          нахвастал       0\n",
            "379          эпиграмма       0\n",
            "2054       зазвонившем       0\n"
          ],
          "name": "stdout"
        }
      ]
    },
    {
      "cell_type": "code",
      "metadata": {
        "id": "vsWNva8Tsw6y",
        "colab_type": "code",
        "colab": {}
      },
      "source": [
        "df['model'] = df.words.apply(lambda x: model[x])"
      ],
      "execution_count": 0,
      "outputs": []
    },
    {
      "cell_type": "code",
      "metadata": {
        "id": "xFYmDWP4QTK1",
        "colab_type": "code",
        "colab": {}
      },
      "source": [
        "X = np.vstack(df.model.values)\n",
        "y = df['values'].values"
      ],
      "execution_count": 0,
      "outputs": []
    },
    {
      "cell_type": "code",
      "metadata": {
        "id": "8MphyzJeQYXg",
        "colab_type": "code",
        "colab": {}
      },
      "source": [
        "X_train, X_test, y_train, y_test = train_test_split(X, y, random_state=42)"
      ],
      "execution_count": 0,
      "outputs": []
    },
    {
      "cell_type": "code",
      "metadata": {
        "id": "EpZSA0KDQcRf",
        "colab_type": "code",
        "colab": {}
      },
      "source": [
        "clf = LogisticRegression().fit(X_train, y_train)"
      ],
      "execution_count": 0,
      "outputs": []
    },
    {
      "cell_type": "code",
      "metadata": {
        "id": "WFi8qNXFQheR",
        "colab_type": "code",
        "outputId": "2c274a1d-f9dc-44b2-dce2-2e8595b19280",
        "colab": {
          "base_uri": "https://localhost:8080/",
          "height": 34
        }
      },
      "source": [
        "y_pred = clf.predict(X_test)\n",
        "f1_score(y_test, y_pred)"
      ],
      "execution_count": 15,
      "outputs": [
        {
          "output_type": "execute_result",
          "data": {
            "text/plain": [
              "0.7111111111111111"
            ]
          },
          "metadata": {
            "tags": []
          },
          "execution_count": 15
        }
      ]
    },
    {
      "cell_type": "code",
      "metadata": {
        "id": "OpALx-kIls9-",
        "colab_type": "code",
        "outputId": "d7ef2913-aa7f-48ac-bca1-4a8fa9dd43fc",
        "colab": {
          "base_uri": "https://localhost:8080/",
          "height": 119
        }
      },
      "source": [
        "from sklearn import linear_model\n",
        "clf1 = linear_model.SGDClassifier(max_iter=1000, tol=1e-3)\n",
        "clf1.fit(X, y)"
      ],
      "execution_count": 16,
      "outputs": [
        {
          "output_type": "execute_result",
          "data": {
            "text/plain": [
              "SGDClassifier(alpha=0.0001, average=False, class_weight=None,\n",
              "              early_stopping=False, epsilon=0.1, eta0=0.0, fit_intercept=True,\n",
              "              l1_ratio=0.15, learning_rate='optimal', loss='hinge',\n",
              "              max_iter=1000, n_iter_no_change=5, n_jobs=None, penalty='l2',\n",
              "              power_t=0.5, random_state=None, shuffle=True, tol=0.001,\n",
              "              validation_fraction=0.1, verbose=0, warm_start=False)"
            ]
          },
          "metadata": {
            "tags": []
          },
          "execution_count": 16
        }
      ]
    },
    {
      "cell_type": "code",
      "metadata": {
        "id": "ii31nGZLpw_q",
        "colab_type": "code",
        "outputId": "5db7b414-b2cc-4c79-9ad2-6490751b0dc3",
        "colab": {
          "base_uri": "https://localhost:8080/",
          "height": 34
        }
      },
      "source": [
        "y_pred = clf1.predict(X_test)\n",
        "f1_score(y_test, y_pred)"
      ],
      "execution_count": 17,
      "outputs": [
        {
          "output_type": "execute_result",
          "data": {
            "text/plain": [
              "0.909952606635071"
            ]
          },
          "metadata": {
            "tags": []
          },
          "execution_count": 17
        }
      ]
    },
    {
      "cell_type": "code",
      "metadata": {
        "id": "AjJ_r2FP_ab_",
        "colab_type": "code",
        "colab": {}
      },
      "source": [
        "dataset = pd.read_csv('words_only.csv', sep='\\t', names=['word'])"
      ],
      "execution_count": 0,
      "outputs": []
    },
    {
      "cell_type": "code",
      "metadata": {
        "id": "1_DJbMT2Cs16",
        "colab_type": "code",
        "colab": {
          "base_uri": "https://localhost:8080/",
          "height": 51
        },
        "outputId": "c20f6321-edce-4d63-d0fa-141c7116f84b"
      },
      "source": [
        "%%time\n",
        "ff = open('expressive.csv', 'w+')\n",
        "\n",
        "for word in dataset.word:\n",
        "    if len(word) < 4 or len(word) > 18:\n",
        "      continue\n",
        "    res = clf1.predict(model[word].reshape(1,-1))\n",
        "    if res[0] == 1:\n",
        "        example = f\"{word}\\t{res}\" + \"\\n\"\n",
        "        ff.write(example)"
      ],
      "execution_count": 53,
      "outputs": [
        {
          "output_type": "stream",
          "text": [
            "CPU times: user 15min 14s, sys: 514 ms, total: 15min 15s\n",
            "Wall time: 15min 15s\n"
          ],
          "name": "stdout"
        }
      ]
    },
    {
      "cell_type": "code",
      "metadata": {
        "id": "MvrYQIn2HIJK",
        "colab_type": "code",
        "colab": {
          "base_uri": "https://localhost:8080/",
          "height": 514
        },
        "outputId": "6f8d39d2-37ad-4993-a424-5dbc439786f0"
      },
      "source": [
        "examples = pd.read_csv('expressive.csv', sep='\\t', names=['word', 'class'])\n",
        "examples.sample(15)"
      ],
      "execution_count": 55,
      "outputs": [
        {
          "output_type": "execute_result",
          "data": {
            "text/html": [
              "<div>\n",
              "<style scoped>\n",
              "    .dataframe tbody tr th:only-of-type {\n",
              "        vertical-align: middle;\n",
              "    }\n",
              "\n",
              "    .dataframe tbody tr th {\n",
              "        vertical-align: top;\n",
              "    }\n",
              "\n",
              "    .dataframe thead th {\n",
              "        text-align: right;\n",
              "    }\n",
              "</style>\n",
              "<table border=\"1\" class=\"dataframe\">\n",
              "  <thead>\n",
              "    <tr style=\"text-align: right;\">\n",
              "      <th></th>\n",
              "      <th>word</th>\n",
              "      <th>class</th>\n",
              "    </tr>\n",
              "  </thead>\n",
              "  <tbody>\n",
              "    <tr>\n",
              "      <th>380827</th>\n",
              "      <td>сипатишное</td>\n",
              "      <td>[1]</td>\n",
              "    </tr>\n",
              "    <tr>\n",
              "      <th>32575</th>\n",
              "      <td>онкио</td>\n",
              "      <td>[1]</td>\n",
              "    </tr>\n",
              "    <tr>\n",
              "      <th>182547</th>\n",
              "      <td>шампаню</td>\n",
              "      <td>[1]</td>\n",
              "    </tr>\n",
              "    <tr>\n",
              "      <th>108669</th>\n",
              "      <td>Дишечка</td>\n",
              "      <td>[1]</td>\n",
              "    </tr>\n",
              "    <tr>\n",
              "      <th>452871</th>\n",
              "      <td>страшнеееееее</td>\n",
              "      <td>[1]</td>\n",
              "    </tr>\n",
              "    <tr>\n",
              "      <th>151246</th>\n",
              "      <td>легкотя</td>\n",
              "      <td>[1]</td>\n",
              "    </tr>\n",
              "    <tr>\n",
              "      <th>72083</th>\n",
              "      <td>жыдкой</td>\n",
              "      <td>[1]</td>\n",
              "    </tr>\n",
              "    <tr>\n",
              "      <th>272140</th>\n",
              "      <td>Евродеток</td>\n",
              "      <td>[1]</td>\n",
              "    </tr>\n",
              "    <tr>\n",
              "      <th>101342</th>\n",
              "      <td>шлачок</td>\n",
              "      <td>[1]</td>\n",
              "    </tr>\n",
              "    <tr>\n",
              "      <th>258240</th>\n",
              "      <td>тряснула</td>\n",
              "      <td>[1]</td>\n",
              "    </tr>\n",
              "    <tr>\n",
              "      <th>199342</th>\n",
              "      <td>Рахельки</td>\n",
              "      <td>[1]</td>\n",
              "    </tr>\n",
              "    <tr>\n",
              "      <th>302919</th>\n",
              "      <td>класнявый</td>\n",
              "      <td>[1]</td>\n",
              "    </tr>\n",
              "    <tr>\n",
              "      <th>152584</th>\n",
              "      <td>лусочки</td>\n",
              "      <td>[1]</td>\n",
              "    </tr>\n",
              "    <tr>\n",
              "      <th>252617</th>\n",
              "      <td>сказачны</td>\n",
              "      <td>[1]</td>\n",
              "    </tr>\n",
              "    <tr>\n",
              "      <th>73668</th>\n",
              "      <td>икусно</td>\n",
              "      <td>[1]</td>\n",
              "    </tr>\n",
              "  </tbody>\n",
              "</table>\n",
              "</div>"
            ],
            "text/plain": [
              "                 word class\n",
              "380827     сипатишное   [1]\n",
              "32575           онкио   [1]\n",
              "182547        шампаню   [1]\n",
              "108669        Дишечка   [1]\n",
              "452871  страшнеееееее   [1]\n",
              "151246        легкотя   [1]\n",
              "72083          жыдкой   [1]\n",
              "272140      Евродеток   [1]\n",
              "101342         шлачок   [1]\n",
              "258240       тряснула   [1]\n",
              "199342       Рахельки   [1]\n",
              "302919      класнявый   [1]\n",
              "152584        лусочки   [1]\n",
              "252617       сказачны   [1]\n",
              "73668          икусно   [1]"
            ]
          },
          "metadata": {
            "tags": []
          },
          "execution_count": 55
        }
      ]
    }
  ]
}