{
  "nbformat": 4,
  "nbformat_minor": 0,
  "metadata": {
    "colab": {
      "name": "Expressive_forms_classification.ipynb",
      "provenance": [],
      "authorship_tag": "ABX9TyObfllpJ4XdtNEqvXcoSPke",
      "include_colab_link": true
    },
    "kernelspec": {
      "name": "python3",
      "display_name": "Python 3"
    }
  },
  "cells": [
    {
      "cell_type": "markdown",
      "metadata": {
        "id": "view-in-github",
        "colab_type": "text"
      },
      "source": [
        "<a href=\"https://colab.research.google.com/github/wksmirnowa/antidict/blob/master/Jupyter%20Notebooks/Expressive_forms_classification_New.ipynb\" target=\"_parent\"><img src=\"https://colab.research.google.com/assets/colab-badge.svg\" alt=\"Open In Colab\"/></a>"
      ]
    },
    {
      "cell_type": "code",
      "metadata": {
        "id": "X11efNCFMOCx",
        "colab_type": "code",
        "outputId": "27b520b2-ae42-4fdb-92cf-686d0d17e777",
        "colab": {
          "base_uri": "https://localhost:8080/",
          "height": 445
        }
      },
      "source": [
        "!pip install --upgrade gensim"
      ],
      "execution_count": 1,
      "outputs": [
        {
          "output_type": "stream",
          "text": [
            "Collecting gensim\n",
            "\u001b[?25l  Downloading https://files.pythonhosted.org/packages/2b/e0/fa6326251692056dc880a64eb22117e03269906ba55a6864864d24ec8b4e/gensim-3.8.3-cp36-cp36m-manylinux1_x86_64.whl (24.2MB)\n",
            "\u001b[K     |████████████████████████████████| 24.2MB 59.7MB/s \n",
            "\u001b[?25hRequirement already satisfied, skipping upgrade: smart-open>=1.8.1 in /usr/local/lib/python3.6/dist-packages (from gensim) (2.0.0)\n",
            "Requirement already satisfied, skipping upgrade: six>=1.5.0 in /usr/local/lib/python3.6/dist-packages (from gensim) (1.12.0)\n",
            "Requirement already satisfied, skipping upgrade: scipy>=0.18.1 in /usr/local/lib/python3.6/dist-packages (from gensim) (1.4.1)\n",
            "Requirement already satisfied, skipping upgrade: numpy>=1.11.3 in /usr/local/lib/python3.6/dist-packages (from gensim) (1.18.4)\n",
            "Requirement already satisfied, skipping upgrade: boto3 in /usr/local/lib/python3.6/dist-packages (from smart-open>=1.8.1->gensim) (1.13.4)\n",
            "Requirement already satisfied, skipping upgrade: boto in /usr/local/lib/python3.6/dist-packages (from smart-open>=1.8.1->gensim) (2.49.0)\n",
            "Requirement already satisfied, skipping upgrade: requests in /usr/local/lib/python3.6/dist-packages (from smart-open>=1.8.1->gensim) (2.23.0)\n",
            "Requirement already satisfied, skipping upgrade: jmespath<1.0.0,>=0.7.1 in /usr/local/lib/python3.6/dist-packages (from boto3->smart-open>=1.8.1->gensim) (0.9.5)\n",
            "Requirement already satisfied, skipping upgrade: s3transfer<0.4.0,>=0.3.0 in /usr/local/lib/python3.6/dist-packages (from boto3->smart-open>=1.8.1->gensim) (0.3.3)\n",
            "Requirement already satisfied, skipping upgrade: botocore<1.17.0,>=1.16.4 in /usr/local/lib/python3.6/dist-packages (from boto3->smart-open>=1.8.1->gensim) (1.16.4)\n",
            "Requirement already satisfied, skipping upgrade: chardet<4,>=3.0.2 in /usr/local/lib/python3.6/dist-packages (from requests->smart-open>=1.8.1->gensim) (3.0.4)\n",
            "Requirement already satisfied, skipping upgrade: idna<3,>=2.5 in /usr/local/lib/python3.6/dist-packages (from requests->smart-open>=1.8.1->gensim) (2.9)\n",
            "Requirement already satisfied, skipping upgrade: urllib3!=1.25.0,!=1.25.1,<1.26,>=1.21.1 in /usr/local/lib/python3.6/dist-packages (from requests->smart-open>=1.8.1->gensim) (1.24.3)\n",
            "Requirement already satisfied, skipping upgrade: certifi>=2017.4.17 in /usr/local/lib/python3.6/dist-packages (from requests->smart-open>=1.8.1->gensim) (2020.4.5.1)\n",
            "Requirement already satisfied, skipping upgrade: python-dateutil<3.0.0,>=2.1 in /usr/local/lib/python3.6/dist-packages (from botocore<1.17.0,>=1.16.4->boto3->smart-open>=1.8.1->gensim) (2.8.1)\n",
            "Requirement already satisfied, skipping upgrade: docutils<0.16,>=0.10 in /usr/local/lib/python3.6/dist-packages (from botocore<1.17.0,>=1.16.4->boto3->smart-open>=1.8.1->gensim) (0.15.2)\n",
            "Installing collected packages: gensim\n",
            "  Found existing installation: gensim 3.6.0\n",
            "    Uninstalling gensim-3.6.0:\n",
            "      Successfully uninstalled gensim-3.6.0\n",
            "Successfully installed gensim-3.8.3\n"
          ],
          "name": "stdout"
        }
      ]
    },
    {
      "cell_type": "code",
      "metadata": {
        "id": "rPtqqqpWaIx6",
        "colab_type": "code",
        "colab": {}
      },
      "source": [
        "import pandas as pd"
      ],
      "execution_count": 0,
      "outputs": []
    },
    {
      "cell_type": "code",
      "metadata": {
        "id": "tb0G8FfbeluQ",
        "colab_type": "code",
        "outputId": "ad2f7dd2-6453-4fc9-e6ef-7aa9845a0ba3",
        "colab": {
          "base_uri": "https://localhost:8080/",
          "height": 374
        }
      },
      "source": [
        "data = pd.read_csv('expressive_words_train.txt', names=['words'])\n",
        "data['words'] = data.words.str.lower()\n",
        "data['values'] = 1\n",
        "print(data.sample(20))"
      ],
      "execution_count": 3,
      "outputs": [
        {
          "output_type": "stream",
          "text": [
            "              words  values\n",
            "16       заколдовка       1\n",
            "186       мальчичек       1\n",
            "59       ольгушечка       1\n",
            "209     ксилофонщик       1\n",
            "243          маманя       1\n",
            "263      девчушечка       1\n",
            "22         солнышко       1\n",
            "352          кисусь       1\n",
            "84            димка       1\n",
            "333       стиксянам       1\n",
            "135         андрюша       1\n",
            "359    сестробратцы       1\n",
            "184          дедуля       1\n",
            "423     легохонькие       1\n",
            "320        репицька       1\n",
            "356  полуторолеткой       1\n",
            "310          клунок       1\n",
            "56         олюньчик       1\n",
            "343      печененьки       1\n",
            "150         букетик       1\n"
          ],
          "name": "stdout"
        }
      ]
    },
    {
      "cell_type": "code",
      "metadata": {
        "id": "HRyEm8VOgahd",
        "colab_type": "code",
        "outputId": "48d3599b-41f4-4f75-e7d0-fae0d3bc4d94",
        "colab": {
          "base_uri": "https://localhost:8080/",
          "height": 374
        }
      },
      "source": [
        "data1 = pd.read_csv('zaliznyak.txt', names=['words'])\n",
        "data1['values'] = 0\n",
        "print(data1.sample(20))"
      ],
      "execution_count": 4,
      "outputs": [
        {
          "output_type": "stream",
          "text": [
            "                  words  values\n",
            "803       перфорируемое       0\n",
            "2797        онемевавшею       0\n",
            "1508       воссоединишь       0\n",
            "1172          нацарапал       0\n",
            "2058      взобравшегося       0\n",
            "1073      замусливающую       0\n",
            "166          углубившей       0\n",
            "531       отскакиваемую       0\n",
            "980         расщепаться       0\n",
            "22    обстрагивавшегося       0\n",
            "77              щебенил       0\n",
            "2345    реставрационной       0\n",
            "94          еретическом       0\n",
            "1175      разжёвывается       0\n",
            "2346     обандеролившее       0\n",
            "1824         перистилем       0\n",
            "953       водружавшейся       0\n",
            "171     переучитываемую       0\n",
            "2055      затрагивающую       0\n",
            "1397        отклонилась       0\n"
          ],
          "name": "stdout"
        }
      ]
    },
    {
      "cell_type": "code",
      "metadata": {
        "id": "vcscHWyiHKG-",
        "colab_type": "code",
        "colab": {
          "base_uri": "https://localhost:8080/",
          "height": 34
        },
        "outputId": "2c9658ee-dd2b-467e-cfb0-90e252e4ddb1"
      },
      "source": [
        "len(data1)"
      ],
      "execution_count": 37,
      "outputs": [
        {
          "output_type": "execute_result",
          "data": {
            "text/plain": [
              "2955"
            ]
          },
          "metadata": {
            "tags": []
          },
          "execution_count": 37
        }
      ]
    },
    {
      "cell_type": "code",
      "metadata": {
        "id": "7MNolJSykZuf",
        "colab_type": "code",
        "colab": {}
      },
      "source": [
        "import gensim\n",
        "import numpy as np\n",
        "\n",
        "from sklearn.metrics import f1_score\n",
        "from sklearn.linear_model import LogisticRegression\n",
        "from sklearn.model_selection import train_test_split\n",
        "import warnings\n",
        "warnings.filterwarnings(\"ignore\")"
      ],
      "execution_count": 0,
      "outputs": []
    },
    {
      "cell_type": "code",
      "metadata": {
        "id": "qBKzmarcnB-7",
        "colab_type": "code",
        "outputId": "f0bef2a7-26f6-4cb3-f722-042e8a6662e3",
        "colab": {
          "base_uri": "https://localhost:8080/",
          "height": 204
        }
      },
      "source": [
        "!wget https://rusvectores.org/static/models/rusvectores4/fasttext/araneum_none_fasttextcbow_300_5_2018.tgz"
      ],
      "execution_count": 6,
      "outputs": [
        {
          "output_type": "stream",
          "text": [
            "--2020-05-17 16:52:06--  https://rusvectores.org/static/models/rusvectores4/fasttext/araneum_none_fasttextcbow_300_5_2018.tgz\n",
            "Resolving rusvectores.org (rusvectores.org)... 116.203.104.23\n",
            "Connecting to rusvectores.org (rusvectores.org)|116.203.104.23|:443... connected.\n",
            "HTTP request sent, awaiting response... 200 OK\n",
            "Length: 2691248108 (2.5G) [application/x-gzip]\n",
            "Saving to: ‘araneum_none_fasttextcbow_300_5_2018.tgz’\n",
            "\n",
            "araneum_none_fastte 100%[===================>]   2.51G  28.1MB/s    in 93s     \n",
            "\n",
            "2020-05-17 16:53:40 (27.5 MB/s) - ‘araneum_none_fasttextcbow_300_5_2018.tgz’ saved [2691248108/2691248108]\n",
            "\n"
          ],
          "name": "stdout"
        }
      ]
    },
    {
      "cell_type": "code",
      "metadata": {
        "id": "-PGl7wxGnhph",
        "colab_type": "code",
        "colab": {}
      },
      "source": [
        "import tarfile\n",
        "tar = tarfile.open(\"araneum_none_fasttextcbow_300_5_2018.tgz\", \"r\")\n",
        "tar.extractall()"
      ],
      "execution_count": 0,
      "outputs": []
    },
    {
      "cell_type": "code",
      "metadata": {
        "id": "fd90JMVakohC",
        "colab_type": "code",
        "colab": {}
      },
      "source": [
        "model = gensim.models.KeyedVectors.load(\"araneum_none_fasttextcbow_300_5_2018.model\")"
      ],
      "execution_count": 0,
      "outputs": []
    },
    {
      "cell_type": "code",
      "metadata": {
        "id": "6EExfvohstVo",
        "colab_type": "code",
        "outputId": "10ff3be1-6717-4d2b-a82b-dd11b9f6d3d7",
        "colab": {
          "base_uri": "https://localhost:8080/",
          "height": 374
        }
      },
      "source": [
        "df = pd.concat([data1.sample(600), data], axis=0).sample(frac=1)\n",
        "print(df.sample(20))"
      ],
      "execution_count": 46,
      "outputs": [
        {
          "output_type": "stream",
          "text": [
            "                     words  values\n",
            "234                зверюга       1\n",
            "1284              выстужен       0\n",
            "605            камвольными       0\n",
            "1440           подкорнаюсь       0\n",
            "1487         непристойными       0\n",
            "35            обсаживаемом       0\n",
            "1492  набронзировывающийся       0\n",
            "721              винтуемою       0\n",
            "186              мальчичек       1\n",
            "715          понадивлённее       0\n",
            "272           уточняющеюся       0\n",
            "285                пивасик       1\n",
            "2030         проколупанное       0\n",
            "1329     корригировавшеюся       0\n",
            "255             девчоночка       1\n",
            "40              взломаться       0\n",
            "339            криволапках       1\n",
            "234          притаптываемо       0\n",
            "382            тунтунколка       1\n",
            "1389           свистнутого       0\n"
          ],
          "name": "stdout"
        }
      ]
    },
    {
      "cell_type": "code",
      "metadata": {
        "id": "vsWNva8Tsw6y",
        "colab_type": "code",
        "colab": {}
      },
      "source": [
        "df['model'] = df.words.apply(lambda x: model[x])"
      ],
      "execution_count": 0,
      "outputs": []
    },
    {
      "cell_type": "code",
      "metadata": {
        "id": "xFYmDWP4QTK1",
        "colab_type": "code",
        "colab": {}
      },
      "source": [
        "X = np.vstack(df.model.values)\n",
        "y = df['values'].values"
      ],
      "execution_count": 0,
      "outputs": []
    },
    {
      "cell_type": "code",
      "metadata": {
        "id": "8MphyzJeQYXg",
        "colab_type": "code",
        "colab": {}
      },
      "source": [
        "X_train, X_test, y_train, y_test = train_test_split(X, y, random_state=42)"
      ],
      "execution_count": 0,
      "outputs": []
    },
    {
      "cell_type": "code",
      "metadata": {
        "id": "EpZSA0KDQcRf",
        "colab_type": "code",
        "colab": {}
      },
      "source": [
        "clf = LogisticRegression().fit(X_train, y_train)"
      ],
      "execution_count": 0,
      "outputs": []
    },
    {
      "cell_type": "code",
      "metadata": {
        "id": "WFi8qNXFQheR",
        "colab_type": "code",
        "outputId": "62d81d00-4e0d-4fec-f817-40e3fff9597b",
        "colab": {
          "base_uri": "https://localhost:8080/",
          "height": 34
        }
      },
      "source": [
        "y_pred = clf.predict(X_test)\n",
        "f1_score(y_test, y_pred)"
      ],
      "execution_count": 51,
      "outputs": [
        {
          "output_type": "execute_result",
          "data": {
            "text/plain": [
              "0.7624309392265193"
            ]
          },
          "metadata": {
            "tags": []
          },
          "execution_count": 51
        }
      ]
    },
    {
      "cell_type": "code",
      "metadata": {
        "id": "OpALx-kIls9-",
        "colab_type": "code",
        "outputId": "9cc98a3d-4efe-4f1f-a7d8-6bdad759797f",
        "colab": {
          "base_uri": "https://localhost:8080/",
          "height": 119
        }
      },
      "source": [
        "from sklearn import linear_model\n",
        "clf1 = linear_model.SGDClassifier(max_iter=1000, tol=1e-3)\n",
        "clf1.fit(X, y)"
      ],
      "execution_count": 15,
      "outputs": [
        {
          "output_type": "execute_result",
          "data": {
            "text/plain": [
              "SGDClassifier(alpha=0.0001, average=False, class_weight=None,\n",
              "              early_stopping=False, epsilon=0.1, eta0=0.0, fit_intercept=True,\n",
              "              l1_ratio=0.15, learning_rate='optimal', loss='hinge',\n",
              "              max_iter=1000, n_iter_no_change=5, n_jobs=None, penalty='l2',\n",
              "              power_t=0.5, random_state=None, shuffle=True, tol=0.001,\n",
              "              validation_fraction=0.1, verbose=0, warm_start=False)"
            ]
          },
          "metadata": {
            "tags": []
          },
          "execution_count": 15
        }
      ]
    },
    {
      "cell_type": "code",
      "metadata": {
        "id": "ii31nGZLpw_q",
        "colab_type": "code",
        "outputId": "5ecc9d3e-ce92-408d-b420-3a1326c878fc",
        "colab": {
          "base_uri": "https://localhost:8080/",
          "height": 34
        }
      },
      "source": [
        "y_pred = clf1.predict(X_test)\n",
        "f1_score(y_test, y_pred)"
      ],
      "execution_count": 16,
      "outputs": [
        {
          "output_type": "execute_result",
          "data": {
            "text/plain": [
              "0.9035087719298246"
            ]
          },
          "metadata": {
            "tags": []
          },
          "execution_count": 16
        }
      ]
    },
    {
      "cell_type": "code",
      "metadata": {
        "id": "Eopr_9Pk6o-F",
        "colab_type": "code",
        "colab": {}
      },
      "source": [
        "dataset = pd.read_csv('words_only.csv', sep='\\t', names=['word'])"
      ],
      "execution_count": 0,
      "outputs": []
    },
    {
      "cell_type": "code",
      "metadata": {
        "id": "yQI6Mlm36wzd",
        "colab_type": "code",
        "colab": {
          "base_uri": "https://localhost:8080/",
          "height": 51
        },
        "outputId": "472e092e-aa3f-45c5-df98-8f5013098e69"
      },
      "source": [
        "%%time\n",
        "ff = open('expressive1.csv', 'w+')\n",
        "\n",
        "for word in dataset.word:\n",
        "    #if len(word) < 4 or len(word) > 18:\n",
        "      #continue\n",
        "    res = clf1.predict(model[word].reshape(1,-1))\n",
        "    if res[0] == 1:\n",
        "        example = f\"{word}\\t{res}\" + \"\\n\"\n",
        "        ff.write(example)"
      ],
      "execution_count": 53,
      "outputs": [
        {
          "output_type": "stream",
          "text": [
            "CPU times: user 16min 34s, sys: 779 ms, total: 16min 34s\n",
            "Wall time: 16min 34s\n"
          ],
          "name": "stdout"
        }
      ]
    },
    {
      "cell_type": "code",
      "metadata": {
        "id": "_QF8H5NS_A6q",
        "colab_type": "code",
        "colab": {
          "base_uri": "https://localhost:8080/",
          "height": 1000
        },
        "outputId": "f8e8c9bc-573b-47ee-9dae-131d9e1b9348"
      },
      "source": [
        "examples1 = pd.read_csv('expressive1.csv', sep='\\t', names=['word', 'class'])\n",
        "examples1[-101060:-101000]"
      ],
      "execution_count": 62,
      "outputs": [
        {
          "output_type": "execute_result",
          "data": {
            "text/html": [
              "<div>\n",
              "<style scoped>\n",
              "    .dataframe tbody tr th:only-of-type {\n",
              "        vertical-align: middle;\n",
              "    }\n",
              "\n",
              "    .dataframe tbody tr th {\n",
              "        vertical-align: top;\n",
              "    }\n",
              "\n",
              "    .dataframe thead th {\n",
              "        text-align: right;\n",
              "    }\n",
              "</style>\n",
              "<table border=\"1\" class=\"dataframe\">\n",
              "  <thead>\n",
              "    <tr style=\"text-align: right;\">\n",
              "      <th></th>\n",
              "      <th>word</th>\n",
              "      <th>class</th>\n",
              "    </tr>\n",
              "  </thead>\n",
              "  <tbody>\n",
              "    <tr>\n",
              "      <th>704181</th>\n",
              "      <td>тренажераха</td>\n",
              "      <td>[1]</td>\n",
              "    </tr>\n",
              "    <tr>\n",
              "      <th>704182</th>\n",
              "      <td>тренажерахи</td>\n",
              "      <td>[1]</td>\n",
              "    </tr>\n",
              "    <tr>\n",
              "      <th>704183</th>\n",
              "      <td>тренажерики</td>\n",
              "      <td>[1]</td>\n",
              "    </tr>\n",
              "    <tr>\n",
              "      <th>704184</th>\n",
              "      <td>тренажерить</td>\n",
              "      <td>[1]</td>\n",
              "    </tr>\n",
              "    <tr>\n",
              "      <th>704185</th>\n",
              "      <td>тренажеркам</td>\n",
              "      <td>[1]</td>\n",
              "    </tr>\n",
              "    <tr>\n",
              "      <th>704186</th>\n",
              "      <td>тренажерках</td>\n",
              "      <td>[1]</td>\n",
              "    </tr>\n",
              "    <tr>\n",
              "      <th>704187</th>\n",
              "      <td>тренажеркою</td>\n",
              "      <td>[1]</td>\n",
              "    </tr>\n",
              "    <tr>\n",
              "      <th>704188</th>\n",
              "      <td>тренажернах</td>\n",
              "      <td>[1]</td>\n",
              "    </tr>\n",
              "    <tr>\n",
              "      <th>704189</th>\n",
              "      <td>тренажернвй</td>\n",
              "      <td>[1]</td>\n",
              "    </tr>\n",
              "    <tr>\n",
              "      <th>704190</th>\n",
              "      <td>тренажерник</td>\n",
              "      <td>[1]</td>\n",
              "    </tr>\n",
              "    <tr>\n",
              "      <th>704191</th>\n",
              "      <td>тренажерним</td>\n",
              "      <td>[1]</td>\n",
              "    </tr>\n",
              "    <tr>\n",
              "      <th>704192</th>\n",
              "      <td>тренажерних</td>\n",
              "      <td>[1]</td>\n",
              "    </tr>\n",
              "    <tr>\n",
              "      <th>704193</th>\n",
              "      <td>тренажернйм</td>\n",
              "      <td>[1]</td>\n",
              "    </tr>\n",
              "    <tr>\n",
              "      <th>704194</th>\n",
              "      <td>тренажерчик</td>\n",
              "      <td>[1]</td>\n",
              "    </tr>\n",
              "    <tr>\n",
              "      <th>704195</th>\n",
              "      <td>тренажерщик</td>\n",
              "      <td>[1]</td>\n",
              "    </tr>\n",
              "    <tr>\n",
              "      <th>704196</th>\n",
              "      <td>тренажиками</td>\n",
              "      <td>[1]</td>\n",
              "    </tr>\n",
              "    <tr>\n",
              "      <th>704197</th>\n",
              "      <td>тренажорках</td>\n",
              "      <td>[1]</td>\n",
              "    </tr>\n",
              "    <tr>\n",
              "      <th>704198</th>\n",
              "      <td>тренажочики</td>\n",
              "      <td>[1]</td>\n",
              "    </tr>\n",
              "    <tr>\n",
              "      <th>704199</th>\n",
              "      <td>тренажёрник</td>\n",
              "      <td>[1]</td>\n",
              "    </tr>\n",
              "    <tr>\n",
              "      <th>704200</th>\n",
              "      <td>тренажёрчик</td>\n",
              "      <td>[1]</td>\n",
              "    </tr>\n",
              "    <tr>\n",
              "      <th>704201</th>\n",
              "      <td>тренважерка</td>\n",
              "      <td>[1]</td>\n",
              "    </tr>\n",
              "    <tr>\n",
              "      <th>704202</th>\n",
              "      <td>тренделками</td>\n",
              "      <td>[1]</td>\n",
              "    </tr>\n",
              "    <tr>\n",
              "      <th>704203</th>\n",
              "      <td>тренделовку</td>\n",
              "      <td>[1]</td>\n",
              "    </tr>\n",
              "    <tr>\n",
              "      <th>704204</th>\n",
              "      <td>трендмейкер</td>\n",
              "      <td>[1]</td>\n",
              "    </tr>\n",
              "    <tr>\n",
              "      <th>704205</th>\n",
              "      <td>трендсеттер</td>\n",
              "      <td>[1]</td>\n",
              "    </tr>\n",
              "    <tr>\n",
              "      <th>704206</th>\n",
              "      <td>трендуфлету</td>\n",
              "      <td>[1]</td>\n",
              "    </tr>\n",
              "    <tr>\n",
              "      <th>704207</th>\n",
              "      <td>тренежерчик</td>\n",
              "      <td>[1]</td>\n",
              "    </tr>\n",
              "    <tr>\n",
              "      <th>704208</th>\n",
              "      <td>тренеровацо</td>\n",
              "      <td>[1]</td>\n",
              "    </tr>\n",
              "    <tr>\n",
              "      <th>704209</th>\n",
              "      <td>тренеровдля</td>\n",
              "      <td>[1]</td>\n",
              "    </tr>\n",
              "    <tr>\n",
              "      <th>704210</th>\n",
              "      <td>тренерським</td>\n",
              "      <td>[1]</td>\n",
              "    </tr>\n",
              "    <tr>\n",
              "      <th>704211</th>\n",
              "      <td>тренерських</td>\n",
              "      <td>[1]</td>\n",
              "    </tr>\n",
              "    <tr>\n",
              "      <th>704212</th>\n",
              "      <td>трениовочка</td>\n",
              "      <td>[1]</td>\n",
              "    </tr>\n",
              "    <tr>\n",
              "      <th>704213</th>\n",
              "      <td>тренирвовку</td>\n",
              "      <td>[1]</td>\n",
              "    </tr>\n",
              "    <tr>\n",
              "      <th>704214</th>\n",
              "      <td>тренироффки</td>\n",
              "      <td>[1]</td>\n",
              "    </tr>\n",
              "    <tr>\n",
              "      <th>704215</th>\n",
              "      <td>тренирровки</td>\n",
              "      <td>[1]</td>\n",
              "    </tr>\n",
              "    <tr>\n",
              "      <th>704216</th>\n",
              "      <td>тренкадисам</td>\n",
              "      <td>[1]</td>\n",
              "    </tr>\n",
              "    <tr>\n",
              "      <th>704217</th>\n",
              "      <td>тренкадисом</td>\n",
              "      <td>[1]</td>\n",
              "    </tr>\n",
              "    <tr>\n",
              "      <th>704218</th>\n",
              "      <td>треннажерку</td>\n",
              "      <td>[1]</td>\n",
              "    </tr>\n",
              "    <tr>\n",
              "      <th>704219</th>\n",
              "      <td>тренровочка</td>\n",
              "      <td>[1]</td>\n",
              "    </tr>\n",
              "    <tr>\n",
              "      <th>704220</th>\n",
              "      <td>тренькалась</td>\n",
              "      <td>[1]</td>\n",
              "    </tr>\n",
              "    <tr>\n",
              "      <th>704221</th>\n",
              "      <td>тренькались</td>\n",
              "      <td>[1]</td>\n",
              "    </tr>\n",
              "    <tr>\n",
              "      <th>704222</th>\n",
              "      <td>тренькалкой</td>\n",
              "      <td>[1]</td>\n",
              "    </tr>\n",
              "    <tr>\n",
              "      <th>704223</th>\n",
              "      <td>тренькающаю</td>\n",
              "      <td>[1]</td>\n",
              "    </tr>\n",
              "    <tr>\n",
              "      <th>704224</th>\n",
              "      <td>трепанатора</td>\n",
              "      <td>[1]</td>\n",
              "    </tr>\n",
              "    <tr>\n",
              "      <th>704225</th>\n",
              "      <td>трепетульки</td>\n",
              "      <td>[1]</td>\n",
              "    </tr>\n",
              "    <tr>\n",
              "      <th>704226</th>\n",
              "      <td>трепыхаецца</td>\n",
              "      <td>[1]</td>\n",
              "    </tr>\n",
              "    <tr>\n",
              "      <th>704227</th>\n",
              "      <td>треуголочка</td>\n",
              "      <td>[1]</td>\n",
              "    </tr>\n",
              "    <tr>\n",
              "      <th>704228</th>\n",
              "      <td>трехвилочка</td>\n",
              "      <td>[1]</td>\n",
              "    </tr>\n",
              "    <tr>\n",
              "      <th>704229</th>\n",
              "      <td>трехглазики</td>\n",
              "      <td>[1]</td>\n",
              "    </tr>\n",
              "    <tr>\n",
              "      <th>704230</th>\n",
              "      <td>трехголовом</td>\n",
              "      <td>[1]</td>\n",
              "    </tr>\n",
              "    <tr>\n",
              "      <th>704231</th>\n",
              "      <td>трехголосье</td>\n",
              "      <td>[1]</td>\n",
              "    </tr>\n",
              "    <tr>\n",
              "      <th>704232</th>\n",
              "      <td>трехдверник</td>\n",
              "      <td>[1]</td>\n",
              "    </tr>\n",
              "    <tr>\n",
              "      <th>704233</th>\n",
              "      <td>трехдверное</td>\n",
              "      <td>[1]</td>\n",
              "    </tr>\n",
              "    <tr>\n",
              "      <th>704234</th>\n",
              "      <td>трехдевочек</td>\n",
              "      <td>[1]</td>\n",
              "    </tr>\n",
              "    <tr>\n",
              "      <th>704235</th>\n",
              "      <td>трехжильник</td>\n",
              "      <td>[1]</td>\n",
              "    </tr>\n",
              "    <tr>\n",
              "      <th>704236</th>\n",
              "      <td>трехкилевое</td>\n",
              "      <td>[1]</td>\n",
              "    </tr>\n",
              "    <tr>\n",
              "      <th>704237</th>\n",
              "      <td>трехкласное</td>\n",
              "      <td>[1]</td>\n",
              "    </tr>\n",
              "    <tr>\n",
              "      <th>704238</th>\n",
              "      <td>трехкоешная</td>\n",
              "      <td>[1]</td>\n",
              "    </tr>\n",
              "    <tr>\n",
              "      <th>704239</th>\n",
              "      <td>трехкозырка</td>\n",
              "      <td>[1]</td>\n",
              "    </tr>\n",
              "    <tr>\n",
              "      <th>704240</th>\n",
              "      <td>трехколенка</td>\n",
              "      <td>[1]</td>\n",
              "    </tr>\n",
              "  </tbody>\n",
              "</table>\n",
              "</div>"
            ],
            "text/plain": [
              "               word class\n",
              "704181  тренажераха   [1]\n",
              "704182  тренажерахи   [1]\n",
              "704183  тренажерики   [1]\n",
              "704184  тренажерить   [1]\n",
              "704185  тренажеркам   [1]\n",
              "704186  тренажерках   [1]\n",
              "704187  тренажеркою   [1]\n",
              "704188  тренажернах   [1]\n",
              "704189  тренажернвй   [1]\n",
              "704190  тренажерник   [1]\n",
              "704191  тренажерним   [1]\n",
              "704192  тренажерних   [1]\n",
              "704193  тренажернйм   [1]\n",
              "704194  тренажерчик   [1]\n",
              "704195  тренажерщик   [1]\n",
              "704196  тренажиками   [1]\n",
              "704197  тренажорках   [1]\n",
              "704198  тренажочики   [1]\n",
              "704199  тренажёрник   [1]\n",
              "704200  тренажёрчик   [1]\n",
              "704201  тренважерка   [1]\n",
              "704202  тренделками   [1]\n",
              "704203  тренделовку   [1]\n",
              "704204  трендмейкер   [1]\n",
              "704205  трендсеттер   [1]\n",
              "704206  трендуфлету   [1]\n",
              "704207  тренежерчик   [1]\n",
              "704208  тренеровацо   [1]\n",
              "704209  тренеровдля   [1]\n",
              "704210  тренерським   [1]\n",
              "704211  тренерських   [1]\n",
              "704212  трениовочка   [1]\n",
              "704213  тренирвовку   [1]\n",
              "704214  тренироффки   [1]\n",
              "704215  тренирровки   [1]\n",
              "704216  тренкадисам   [1]\n",
              "704217  тренкадисом   [1]\n",
              "704218  треннажерку   [1]\n",
              "704219  тренровочка   [1]\n",
              "704220  тренькалась   [1]\n",
              "704221  тренькались   [1]\n",
              "704222  тренькалкой   [1]\n",
              "704223  тренькающаю   [1]\n",
              "704224  трепанатора   [1]\n",
              "704225  трепетульки   [1]\n",
              "704226  трепыхаецца   [1]\n",
              "704227  треуголочка   [1]\n",
              "704228  трехвилочка   [1]\n",
              "704229  трехглазики   [1]\n",
              "704230  трехголовом   [1]\n",
              "704231  трехголосье   [1]\n",
              "704232  трехдверник   [1]\n",
              "704233  трехдверное   [1]\n",
              "704234  трехдевочек   [1]\n",
              "704235  трехжильник   [1]\n",
              "704236  трехкилевое   [1]\n",
              "704237  трехкласное   [1]\n",
              "704238  трехкоешная   [1]\n",
              "704239  трехкозырка   [1]\n",
              "704240  трехколенка   [1]"
            ]
          },
          "metadata": {
            "tags": []
          },
          "execution_count": 62
        }
      ]
    },
    {
      "cell_type": "code",
      "metadata": {
        "id": "RKqYaEkf_TOz",
        "colab_type": "code",
        "colab": {
          "base_uri": "https://localhost:8080/",
          "height": 34
        },
        "outputId": "6e33ba4d-315c-4c6e-c18b-3e434e629566"
      },
      "source": [
        "len(examples1)"
      ],
      "execution_count": 58,
      "outputs": [
        {
          "output_type": "execute_result",
          "data": {
            "text/plain": [
              "805241"
            ]
          },
          "metadata": {
            "tags": []
          },
          "execution_count": 58
        }
      ]
    },
    {
      "cell_type": "code",
      "metadata": {
        "id": "AjJ_r2FP_ab_",
        "colab_type": "code",
        "colab": {}
      },
      "source": [
        "dataset = pd.read_csv('words_only (2).csv', sep='\\t', names=['word'])"
      ],
      "execution_count": 0,
      "outputs": []
    },
    {
      "cell_type": "code",
      "metadata": {
        "id": "1_DJbMT2Cs16",
        "colab_type": "code",
        "colab": {
          "base_uri": "https://localhost:8080/",
          "height": 51
        },
        "outputId": "ea90725d-a403-47b8-cb21-04b978a6607d"
      },
      "source": [
        "%%time\n",
        "ff = open('expressive.csv', 'w+')\n",
        "\n",
        "for word in dataset.word:\n",
        "    if len(word) < 4 or len(word) > 18:\n",
        "      continue\n",
        "    res = clf1.predict(model[word].reshape(1,-1))\n",
        "    if res[0] == 1:\n",
        "        example = f\"{word}\\t{res}\" + \"\\n\"\n",
        "        ff.write(example)"
      ],
      "execution_count": 20,
      "outputs": [
        {
          "output_type": "stream",
          "text": [
            "CPU times: user 16min 41s, sys: 721 ms, total: 16min 42s\n",
            "Wall time: 16min 42s\n"
          ],
          "name": "stdout"
        }
      ]
    },
    {
      "cell_type": "code",
      "metadata": {
        "id": "MvrYQIn2HIJK",
        "colab_type": "code",
        "colab": {
          "base_uri": "https://localhost:8080/",
          "height": 514
        },
        "outputId": "06eeaa77-755b-4543-eaa6-7990f86a963a"
      },
      "source": [
        "#examples = pd.read_csv('expressive.csv', sep='\\t', names=['word', 'class'])\n",
        "examples.sample(15)"
      ],
      "execution_count": 76,
      "outputs": [
        {
          "output_type": "execute_result",
          "data": {
            "text/html": [
              "<div>\n",
              "<style scoped>\n",
              "    .dataframe tbody tr th:only-of-type {\n",
              "        vertical-align: middle;\n",
              "    }\n",
              "\n",
              "    .dataframe tbody tr th {\n",
              "        vertical-align: top;\n",
              "    }\n",
              "\n",
              "    .dataframe thead th {\n",
              "        text-align: right;\n",
              "    }\n",
              "</style>\n",
              "<table border=\"1\" class=\"dataframe\">\n",
              "  <thead>\n",
              "    <tr style=\"text-align: right;\">\n",
              "      <th></th>\n",
              "      <th>word</th>\n",
              "      <th>class</th>\n",
              "    </tr>\n",
              "  </thead>\n",
              "  <tbody>\n",
              "    <tr>\n",
              "      <th>724186</th>\n",
              "      <td>ляжечек</td>\n",
              "      <td>[1]</td>\n",
              "    </tr>\n",
              "    <tr>\n",
              "      <th>521344</th>\n",
              "      <td>виндень</td>\n",
              "      <td>[1]</td>\n",
              "    </tr>\n",
              "    <tr>\n",
              "      <th>783289</th>\n",
              "      <td>напотагама</td>\n",
              "      <td>[1]</td>\n",
              "    </tr>\n",
              "    <tr>\n",
              "      <th>779894</th>\n",
              "      <td>навичо</td>\n",
              "      <td>[1]</td>\n",
              "    </tr>\n",
              "    <tr>\n",
              "      <th>290631</th>\n",
              "      <td>пентакса</td>\n",
              "      <td>[1]</td>\n",
              "    </tr>\n",
              "    <tr>\n",
              "      <th>175903</th>\n",
              "      <td>коколико</td>\n",
              "      <td>[1]</td>\n",
              "    </tr>\n",
              "    <tr>\n",
              "      <th>504268</th>\n",
              "      <td>быдлястые</td>\n",
              "      <td>[1]</td>\n",
              "    </tr>\n",
              "    <tr>\n",
              "      <th>978822</th>\n",
              "      <td>туснике</td>\n",
              "      <td>[1]</td>\n",
              "    </tr>\n",
              "    <tr>\n",
              "      <th>108915</th>\n",
              "      <td>дзавальей</td>\n",
              "      <td>[1]</td>\n",
              "    </tr>\n",
              "    <tr>\n",
              "      <th>792231</th>\n",
              "      <td>непикапер</td>\n",
              "      <td>[1]</td>\n",
              "    </tr>\n",
              "    <tr>\n",
              "      <th>311612</th>\n",
              "      <td>ребенкины</td>\n",
              "      <td>[1]</td>\n",
              "    </tr>\n",
              "    <tr>\n",
              "      <th>635734</th>\n",
              "      <td>ижмаш</td>\n",
              "      <td>[1]</td>\n",
              "    </tr>\n",
              "    <tr>\n",
              "      <th>558680</th>\n",
              "      <td>гуляги</td>\n",
              "      <td>[1]</td>\n",
              "    </tr>\n",
              "    <tr>\n",
              "      <th>626950</th>\n",
              "      <td>зеленючий</td>\n",
              "      <td>[1]</td>\n",
              "    </tr>\n",
              "    <tr>\n",
              "      <th>1055989</th>\n",
              "      <td>штангом</td>\n",
              "      <td>[1]</td>\n",
              "    </tr>\n",
              "  </tbody>\n",
              "</table>\n",
              "</div>"
            ],
            "text/plain": [
              "               word class\n",
              "724186      ляжечек   [1]\n",
              "521344      виндень   [1]\n",
              "783289   напотагама   [1]\n",
              "779894       навичо   [1]\n",
              "290631     пентакса   [1]\n",
              "175903     коколико   [1]\n",
              "504268    быдлястые   [1]\n",
              "978822      туснике   [1]\n",
              "108915    дзавальей   [1]\n",
              "792231    непикапер   [1]\n",
              "311612    ребенкины   [1]\n",
              "635734        ижмаш   [1]\n",
              "558680       гуляги   [1]\n",
              "626950    зеленючий   [1]\n",
              "1055989     штангом   [1]"
            ]
          },
          "metadata": {
            "tags": []
          },
          "execution_count": 76
        }
      ]
    },
    {
      "cell_type": "code",
      "metadata": {
        "id": "wQoj1PseaUwq",
        "colab_type": "code",
        "colab": {
          "base_uri": "https://localhost:8080/",
          "height": 34
        },
        "outputId": "3cb75710-8e8a-43c7-ba80-a112c73855d0"
      },
      "source": [
        "len(examples)"
      ],
      "execution_count": 22,
      "outputs": [
        {
          "output_type": "execute_result",
          "data": {
            "text/plain": [
              "1071964"
            ]
          },
          "metadata": {
            "tags": []
          },
          "execution_count": 22
        }
      ]
    }
  ]
}